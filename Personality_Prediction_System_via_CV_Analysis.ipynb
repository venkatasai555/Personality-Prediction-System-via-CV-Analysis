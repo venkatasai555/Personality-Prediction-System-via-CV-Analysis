{
  "cells": [
    {
      "cell_type": "code",
      "execution_count": 2,
      "metadata": {
        "id": "ciOifFix6flF"
      },
      "outputs": [],
      "source": [
        "import pandas as pd\n",
        "import numpy as np\n",
        "import re\n",
        "\n",
        "# plotting\n",
        "import seaborn as sns\n",
        "import matplotlib.pyplot as plt\n",
        "%matplotlib inline\n"
      ]
    },
    {
      "cell_type": "markdown",
      "metadata": {
        "id": "VJkLoZo16nvH"
      },
      "source": [
        "Data Load and it's Preview"
      ]
    },
    {
      "cell_type": "code",
      "execution_count": 3,
      "metadata": {
        "colab": {
          "base_uri": "https://localhost:8080/"
        },
        "id": "uYrGLjHC6lHW",
        "outputId": "809772fd-25fc-482f-8cf6-7afecaf0cad6"
      },
      "outputs": [
        {
          "output_type": "stream",
          "name": "stdout",
          "text": [
            "Mounted at /content/drive/\n"
          ]
        }
      ],
      "source": [
        "# Access the Drive from Colab, for accessing the file\n",
        "from google.colab import drive\n",
        "drive.mount('/content/drive/')\n"
      ]
    },
    {
      "cell_type": "code",
      "execution_count": 4,
      "metadata": {
        "id": "8i_LOTloAeen"
      },
      "outputs": [],
      "source": [
        "data = pd.read_csv('/content/drive/MyDrive/Colab Notebooks/mail_data.csv')"
      ]
    },
    {
      "cell_type": "code",
      "execution_count": 5,
      "metadata": {
        "colab": {
          "base_uri": "https://localhost:8080/",
          "height": 363
        },
        "id": "ISFsQbm0AM_P",
        "outputId": "6994edfc-0899-41aa-bf65-c3844246d8af"
      },
      "outputs": [
        {
          "output_type": "execute_result",
          "data": {
            "text/plain": [
              "  Category                                            Message\n",
              "0      ham  Go until jurong point, crazy.. Available only ...\n",
              "1      ham                      Ok lar... Joking wif u oni...\n",
              "2     spam  Free entry in 2 a wkly comp to win FA Cup fina...\n",
              "3      ham  U dun say so early hor... U c already then say...\n",
              "4      ham  Nah I don't think he goes to usf, he lives aro...\n",
              "5     spam  FreeMsg Hey there darling it's been 3 week's n...\n",
              "6      ham  Even my brother is not like to speak with me. ...\n",
              "7      ham  As per your request 'Melle Melle (Oru Minnamin...\n",
              "8     spam  WINNER!! As a valued network customer you have...\n",
              "9     spam  Had your mobile 11 months or more? U R entitle..."
            ],
            "text/html": [
              "\n",
              "  <div id=\"df-abb9855f-0a28-468d-976e-f92b5f83eb24\" class=\"colab-df-container\">\n",
              "    <div>\n",
              "<style scoped>\n",
              "    .dataframe tbody tr th:only-of-type {\n",
              "        vertical-align: middle;\n",
              "    }\n",
              "\n",
              "    .dataframe tbody tr th {\n",
              "        vertical-align: top;\n",
              "    }\n",
              "\n",
              "    .dataframe thead th {\n",
              "        text-align: right;\n",
              "    }\n",
              "</style>\n",
              "<table border=\"1\" class=\"dataframe\">\n",
              "  <thead>\n",
              "    <tr style=\"text-align: right;\">\n",
              "      <th></th>\n",
              "      <th>Category</th>\n",
              "      <th>Message</th>\n",
              "    </tr>\n",
              "  </thead>\n",
              "  <tbody>\n",
              "    <tr>\n",
              "      <th>0</th>\n",
              "      <td>ham</td>\n",
              "      <td>Go until jurong point, crazy.. Available only ...</td>\n",
              "    </tr>\n",
              "    <tr>\n",
              "      <th>1</th>\n",
              "      <td>ham</td>\n",
              "      <td>Ok lar... Joking wif u oni...</td>\n",
              "    </tr>\n",
              "    <tr>\n",
              "      <th>2</th>\n",
              "      <td>spam</td>\n",
              "      <td>Free entry in 2 a wkly comp to win FA Cup fina...</td>\n",
              "    </tr>\n",
              "    <tr>\n",
              "      <th>3</th>\n",
              "      <td>ham</td>\n",
              "      <td>U dun say so early hor... U c already then say...</td>\n",
              "    </tr>\n",
              "    <tr>\n",
              "      <th>4</th>\n",
              "      <td>ham</td>\n",
              "      <td>Nah I don't think he goes to usf, he lives aro...</td>\n",
              "    </tr>\n",
              "    <tr>\n",
              "      <th>5</th>\n",
              "      <td>spam</td>\n",
              "      <td>FreeMsg Hey there darling it's been 3 week's n...</td>\n",
              "    </tr>\n",
              "    <tr>\n",
              "      <th>6</th>\n",
              "      <td>ham</td>\n",
              "      <td>Even my brother is not like to speak with me. ...</td>\n",
              "    </tr>\n",
              "    <tr>\n",
              "      <th>7</th>\n",
              "      <td>ham</td>\n",
              "      <td>As per your request 'Melle Melle (Oru Minnamin...</td>\n",
              "    </tr>\n",
              "    <tr>\n",
              "      <th>8</th>\n",
              "      <td>spam</td>\n",
              "      <td>WINNER!! As a valued network customer you have...</td>\n",
              "    </tr>\n",
              "    <tr>\n",
              "      <th>9</th>\n",
              "      <td>spam</td>\n",
              "      <td>Had your mobile 11 months or more? U R entitle...</td>\n",
              "    </tr>\n",
              "  </tbody>\n",
              "</table>\n",
              "</div>\n",
              "    <div class=\"colab-df-buttons\">\n",
              "\n",
              "  <div class=\"colab-df-container\">\n",
              "    <button class=\"colab-df-convert\" onclick=\"convertToInteractive('df-abb9855f-0a28-468d-976e-f92b5f83eb24')\"\n",
              "            title=\"Convert this dataframe to an interactive table.\"\n",
              "            style=\"display:none;\">\n",
              "\n",
              "  <svg xmlns=\"http://www.w3.org/2000/svg\" height=\"24px\" viewBox=\"0 -960 960 960\">\n",
              "    <path d=\"M120-120v-720h720v720H120Zm60-500h600v-160H180v160Zm220 220h160v-160H400v160Zm0 220h160v-160H400v160ZM180-400h160v-160H180v160Zm440 0h160v-160H620v160ZM180-180h160v-160H180v160Zm440 0h160v-160H620v160Z\"/>\n",
              "  </svg>\n",
              "    </button>\n",
              "\n",
              "  <style>\n",
              "    .colab-df-container {\n",
              "      display:flex;\n",
              "      gap: 12px;\n",
              "    }\n",
              "\n",
              "    .colab-df-convert {\n",
              "      background-color: #E8F0FE;\n",
              "      border: none;\n",
              "      border-radius: 50%;\n",
              "      cursor: pointer;\n",
              "      display: none;\n",
              "      fill: #1967D2;\n",
              "      height: 32px;\n",
              "      padding: 0 0 0 0;\n",
              "      width: 32px;\n",
              "    }\n",
              "\n",
              "    .colab-df-convert:hover {\n",
              "      background-color: #E2EBFA;\n",
              "      box-shadow: 0px 1px 2px rgba(60, 64, 67, 0.3), 0px 1px 3px 1px rgba(60, 64, 67, 0.15);\n",
              "      fill: #174EA6;\n",
              "    }\n",
              "\n",
              "    .colab-df-buttons div {\n",
              "      margin-bottom: 4px;\n",
              "    }\n",
              "\n",
              "    [theme=dark] .colab-df-convert {\n",
              "      background-color: #3B4455;\n",
              "      fill: #D2E3FC;\n",
              "    }\n",
              "\n",
              "    [theme=dark] .colab-df-convert:hover {\n",
              "      background-color: #434B5C;\n",
              "      box-shadow: 0px 1px 3px 1px rgba(0, 0, 0, 0.15);\n",
              "      filter: drop-shadow(0px 1px 2px rgba(0, 0, 0, 0.3));\n",
              "      fill: #FFFFFF;\n",
              "    }\n",
              "  </style>\n",
              "\n",
              "    <script>\n",
              "      const buttonEl =\n",
              "        document.querySelector('#df-abb9855f-0a28-468d-976e-f92b5f83eb24 button.colab-df-convert');\n",
              "      buttonEl.style.display =\n",
              "        google.colab.kernel.accessAllowed ? 'block' : 'none';\n",
              "\n",
              "      async function convertToInteractive(key) {\n",
              "        const element = document.querySelector('#df-abb9855f-0a28-468d-976e-f92b5f83eb24');\n",
              "        const dataTable =\n",
              "          await google.colab.kernel.invokeFunction('convertToInteractive',\n",
              "                                                    [key], {});\n",
              "        if (!dataTable) return;\n",
              "\n",
              "        const docLinkHtml = 'Like what you see? Visit the ' +\n",
              "          '<a target=\"_blank\" href=https://colab.research.google.com/notebooks/data_table.ipynb>data table notebook</a>'\n",
              "          + ' to learn more about interactive tables.';\n",
              "        element.innerHTML = '';\n",
              "        dataTable['output_type'] = 'display_data';\n",
              "        await google.colab.output.renderOutput(dataTable, element);\n",
              "        const docLink = document.createElement('div');\n",
              "        docLink.innerHTML = docLinkHtml;\n",
              "        element.appendChild(docLink);\n",
              "      }\n",
              "    </script>\n",
              "  </div>\n",
              "\n",
              "\n",
              "<div id=\"df-eb563b83-0eda-40ad-9015-b56e86dc9076\">\n",
              "  <button class=\"colab-df-quickchart\" onclick=\"quickchart('df-eb563b83-0eda-40ad-9015-b56e86dc9076')\"\n",
              "            title=\"Suggest charts.\"\n",
              "            style=\"display:none;\">\n",
              "\n",
              "<svg xmlns=\"http://www.w3.org/2000/svg\" height=\"24px\"viewBox=\"0 0 24 24\"\n",
              "     width=\"24px\">\n",
              "    <g>\n",
              "        <path d=\"M19 3H5c-1.1 0-2 .9-2 2v14c0 1.1.9 2 2 2h14c1.1 0 2-.9 2-2V5c0-1.1-.9-2-2-2zM9 17H7v-7h2v7zm4 0h-2V7h2v10zm4 0h-2v-4h2v4z\"/>\n",
              "    </g>\n",
              "</svg>\n",
              "  </button>\n",
              "\n",
              "<style>\n",
              "  .colab-df-quickchart {\n",
              "    background-color: #E8F0FE;\n",
              "    border: none;\n",
              "    border-radius: 50%;\n",
              "    cursor: pointer;\n",
              "    display: none;\n",
              "    fill: #1967D2;\n",
              "    height: 32px;\n",
              "    padding: 0 0 0 0;\n",
              "    width: 32px;\n",
              "  }\n",
              "\n",
              "  .colab-df-quickchart:hover {\n",
              "    background-color: #E2EBFA;\n",
              "    box-shadow: 0px 1px 2px rgba(60, 64, 67, 0.3), 0px 1px 3px 1px rgba(60, 64, 67, 0.15);\n",
              "    fill: #174EA6;\n",
              "  }\n",
              "\n",
              "  [theme=dark] .colab-df-quickchart {\n",
              "    background-color: #3B4455;\n",
              "    fill: #D2E3FC;\n",
              "  }\n",
              "\n",
              "  [theme=dark] .colab-df-quickchart:hover {\n",
              "    background-color: #434B5C;\n",
              "    box-shadow: 0px 1px 3px 1px rgba(0, 0, 0, 0.15);\n",
              "    filter: drop-shadow(0px 1px 2px rgba(0, 0, 0, 0.3));\n",
              "    fill: #FFFFFF;\n",
              "  }\n",
              "</style>\n",
              "\n",
              "  <script>\n",
              "    async function quickchart(key) {\n",
              "      const charts = await google.colab.kernel.invokeFunction(\n",
              "          'suggestCharts', [key], {});\n",
              "    }\n",
              "    (() => {\n",
              "      let quickchartButtonEl =\n",
              "        document.querySelector('#df-eb563b83-0eda-40ad-9015-b56e86dc9076 button');\n",
              "      quickchartButtonEl.style.display =\n",
              "        google.colab.kernel.accessAllowed ? 'block' : 'none';\n",
              "    })();\n",
              "  </script>\n",
              "</div>\n",
              "    </div>\n",
              "  </div>\n"
            ]
          },
          "metadata": {},
          "execution_count": 5
        }
      ],
      "source": [
        "data.head(10)"
      ]
    },
    {
      "cell_type": "markdown",
      "metadata": {
        "id": "_Zkj15LwA23N"
      },
      "source": [
        "## **List of posts**"
      ]
    },
    {
      "cell_type": "code",
      "execution_count": 6,
      "metadata": {
        "colab": {
          "base_uri": "https://localhost:8080/"
        },
        "id": "FBgeOpTKAyI8",
        "outputId": "8ac2ea8f-651b-427f-ee68-c1082c9f1b74"
      },
      "outputs": [
        {
          "output_type": "stream",
          "name": "stdout",
          "text": [
            "   type                                              posts\n",
            "0  INFJ  'http://www.youtube.com/watch?v=qsXHcwe3krw|||...\n",
            "1  ENTP  'I'm finding the lack of me in these posts ver...\n",
            "2  INTP  'Good one  _____   https://www.youtube.com/wat...\n",
            "3  INTJ  'Dear INTP,   I enjoyed our conversation the o...\n",
            "4  ENTJ  'You're fired.|||That's another silly misconce...\n",
            "[\"'http://www.youtube.com/watch?v=qsXHcwe3krw\", 'http://41.media.tumblr.com/tumblr_lfouy03PMA1qa1rooo1_500.jpg', 'enfp and intj moments  https://www.youtube.com/watch?v=iz7lE1g4XM4  sportscenter not top ten plays  https://www.youtube.com/watch?v=uCdfze1etec  pranks', 'What has been the most life-changing experience in your life?', 'http://www.youtube.com/watch?v=vXZeYwwRDw8   http://www.youtube.com/watch?v=u8ejam5DP3E  On repeat for most of today.', 'May the PerC Experience immerse you.', 'The last thing my INFJ friend posted on his facebook before committing suicide the next day. Rest in peace~   http://vimeo.com/22842206', \"Hello ENFJ7. Sorry to hear of your distress. It's only natural for a relationship to not be perfection all the time in every moment of existence. Try to figure the hard times as times of growth, as...\", '84389  84390  http://wallpaperpassion.com/upload/23700/friendship-boy-and-girl-wallpaper.jpg  http://assets.dornob.com/wp-content/uploads/2010/04/round-home-design.jpg ...', 'Welcome and stuff.', 'http://playeressence.com/wp-content/uploads/2013/08/RED-red-the-pokemon-master-32560474-450-338.jpg  Game. Set. Match.', \"Prozac, wellbrutin, at least thirty minutes of moving your legs (and I don't mean moving them while sitting in your same desk chair), weed in moderation (maybe try edibles as a healthier alternative...\", \"Basically come up with three items you've determined that each type (or whichever types you want to do) would more than likely use, given each types' cognitive functions and whatnot, when left by...\", 'All things in moderation.  Sims is indeed a video game, and a good one at that. Note: a good one at that is somewhat subjective in that I am not completely promoting the death of any given Sim...', 'Dear ENFP:  What were your favorite video games growing up and what are your now, current favorite video games? :cool:', 'https://www.youtube.com/watch?v=QyPqT8umzmY', 'It appears to be too late. :sad:', \"There's someone out there for everyone.\", 'Wait... I thought confidence was a good thing.', \"I just cherish the time of solitude b/c i revel within my inner world more whereas most other time i'd be workin... just enjoy the me time while you can. Don't worry, people will always be around to...\", \"Yo entp ladies... if you're into a complimentary personality,well, hey.\", '... when your main social outlet is xbox live conversations and even then you verbally fatigue quickly.', 'http://www.youtube.com/watch?v=gDhy7rdfm14  I really dig the part from 1:46 to 2:50', 'http://www.youtube.com/watch?v=msqXffgh7b8', 'Banned because this thread requires it of me.', 'Get high in backyard, roast and eat marshmellows in backyard while conversing over something intellectual, followed by massages and kisses.', 'http://www.youtube.com/watch?v=Mw7eoU3BMbE', 'http://www.youtube.com/watch?v=4V2uYORhQOk', 'http://www.youtube.com/watch?v=SlVmgFQQ0TI', \"Banned for too many b's in that sentence. How could you! Think of the B!\", 'Banned for watching movies in the corner with the dunces.', 'Banned because Health class clearly taught you nothing about peer pressure.', 'Banned for a whole host of reasons!', 'http://www.youtube.com/watch?v=IRcrv41hgz4', \"1) Two baby deer on left and right munching on a beetle in the middle.  2) Using their own blood, two cavemen diary today's latest happenings on their designated cave diary wall.  3) I see it as...\", 'a pokemon world  an infj society  everyone becomes an optimist', '49142', 'http://www.youtube.com/watch?v=ZRCEq_JFeFM', 'http://discovermagazine.com/2012/jul-aug/20-things-you-didnt-know-about-deserts/desert.jpg', 'http://oyster.ignimgs.com/mediawiki/apis.ign.com/pokemon-silver-version/d/dd/Ditto.gif', 'http://www.serebii.net/potw-dp/Scizor.jpg', \"Not all artists are artists because they draw. It's the idea that counts in forming something of your own... like a signature.\", \"Welcome to the robot ranks, person who downed my self-esteem cuz I'm not an avid signature artist like herself. :proud:\", 'Banned for taking all the room under my bed. Ya gotta learn to share with the roaches.', 'http://www.youtube.com/watch?v=w8IgImn57aQ', 'Banned for being too much of a thundering, grumbling kind of storm... yep.', \"Ahh... old high school music I haven't heard in ages.   http://www.youtube.com/watch?v=dcCRUPCdB1w\", \"I failed a public speaking class a few years ago and I've sort of learned what I could do better were I to be in that position again. A big part of my failure was just overloading myself with too...\", \"I like this person's mentality. He's a confirmed INTJ by the way. http://www.youtube.com/watch?v=hGKLI-GEc6M\", \"Move to the Denver area and start a new life for myself.'\"]\n",
            "[\"'I'm finding the lack of me in these posts very alarming.\", \"Sex can be boring if it's in the same position often. For example me and my girlfriend are currently in an environment where we have to creatively use cowgirl and missionary. There isn't enough...\", \"Giving new meaning to 'Game' theory.\", \"Hello *ENTP Grin*  That's all it takes. Than we converse and they do most of the flirting while I acknowledge their presence and return their words with smooth wordplay and more cheeky grins.\", 'This + Lack of Balance and Hand Eye Coordination.', \"Real IQ test I score 127. Internet IQ tests are funny. I score 140s or higher.  Now, like the former responses of this thread I will mention that I don't believe in the IQ test. Before you banish...\", \"You know you're an ENTP when you vanish from a site for a year and a half, return, and find people are still commenting on your posts and liking your ideas/thoughts. You know you're an ENTP when you...\", 'http://img188.imageshack.us/img188/6422/6020d1f9da6944a6b71bbe6.jpg', 'http://img.adultdvdtalk.com/813a0c6243814cab84c51', 'I over think things sometimes. I go by the old Sherlock Holmes quote.  Perhaps, when a man has special knowledge and special powers like my  own, it rather encourages him to seek a complex...', 'cheshirewolf.tumblr.com  So is I :D', '400,000+  post', \"Not really; I've never thought of E/I or J/P as real functions.  I judge myself on what I use. I use Ne and Ti as my dominates. Fe for emotions and rarely Si. I also use Ni due to me strength...\", 'You know though. That was ingenious. After saying it I really want to try it and see what happens with me playing a first person shooter in the back while we drive around. I want to see the look on...', \"out of all of them the rock paper one is the best. It makes me lol.  You guys are lucky :D I'm really high up on the tumblr system.\", \"So did you hear about that new first person shooter game? I've been rocking the hell out of the soundtrack on my auto sound equipment that will shake the heavens. We managed to put a couple PS3's in...\", 'No; The way he connected things was very Ne. Ne dominates are just as aware of their environments as Se dominates.  Example: Shawn Spencer or Patrick Jane; Both ENTPs.', \"Well charlie I will be the first to admit I do get jealous like you do. I chalk it up to my 4w3 heart mixed with my dominate 7w8. 7s and 8s both like to be noticed. 4's like to be known (not the same...\", \";D I'll upload the same clip with the mic away from my mouth. Than you won't hear anything.  Ninja Assassin style but with splatter.\", 'Tik Tok is a really great song. As long as you can mental block out the singer. I love the beat it makes me bounce.', 'drop.io v1swck0  :D Mic really close to my mouth and smokin aces: assassins ball playing in the background.', \"Sociable =/= extrovert; I'm an extrovert and I'm not sociable. :)\", \"Sherlock in the movie was an ENTP. Normally he's played as a EXTJ. In the books he's an ESTJ.  As I said. The movie looked good except for it being called sherlock holmes.\", 'http://i817.photobucket.com/albums/zz96/kamioo/Dirtywinch.png', \"Oh, I never had fear of kissing a guy. I will kiss an animal too. So there was nothing to vanish. Just personal taste and me not liking it.  The guy I kissed didn't know me. It was one of those...\", \"Sounds pretty much like my area and what I'm going through right now trying to figure out which way I want to take my life. I want to do so many things. The biggest problem is that I know if I don't...\", ';D I was operating under the impression that you were female. I never looked at your boxy. Okay, I help out my gay friends all the time and one of them has developed a little crush on me. I get red...', \"T_T You just described me  and I'm living the worst nightmare. I'm trapped in one place with one one around. Only dull woods. If I was a serial killer this would be the perfect place but sadly I'm...\", 'TBH, and biased, sounds like a shadowed INFP. I think maybe he was hurt and turned ESTJ. I can tell because he has some of the typical INFP traits left over.', \"*Checks list* I'm sorry. It seems that you have came at a bad time. We've already reached our quota of INFJs. However, being you're female and I like females I will make you a deal. I will kick one...\", \"I'm ANTP (Leaning toward E). I'm easy for both ENTPs and INTPs to identify with. :)\", \"I also imagine ENTP's interrogations would go a little bit like Jack's from 24 except more mechanical. Rigging up shock treatment equipment in an abandoned building out of an old car batty, jumper...\", \"It was a compliment :) Trust me. I'm just as psychopathic :D except I have emoticons. They're just weird ones. Like laughing when I get hurt or at people running themselves over with their lawn mower...\", 'http://i817.photobucket.com/albums/zz96/kamioo/Thunderstorm.pnghttp://i817.photobucket.com/albums/zz96/kamioo/Thunderstormbw.png http://i817.photobucket.com/albums/zz96/kamioo/Cosmicstorm.png', \"No. It's like a theme for where I live and that is why I know it by heart.   http://www.youtube.com/watch?v=j5W73HaVQBg\", \"and I usual don't leave until the thing ends. But in the mean time. In between times. You work your thing. I'll work mine :D  ;D I'm the MBP; Pleasure to meet you.\", 'Damn, need to trust my instincts more I would have been closer I was going to say INFP.', 'EXFP? Leaning toward S with the way she responded.  :D My friends, even my gay and lesbian ones, always come to me for advice.', \"I bow to my entp masters ENTPs are so great. If it wasn't for ENTPs I wouldn't have been able to build what I'm building  Duck Duck  Duck  Shotgun\", 'What? Me? I never do that >.> <.<', \"Because its hard to be sad about losing someone you like when you knew you were right and give yourself a big pat on the back because you're awesome and always correct.\", \"Oh, you don't have to tell me that most of them are stupid. I know this. That is why I play with them and it makes me laugh. :D As I'm going to take Neuropsychology and I have a few psychologist...\", \":D I'm a Nightowl. I wake up between 6-7pm and stay awake till 10-11:30am.\", 'Personal opinion backed by theory would suggest that INTPs are the most socially difficult. While INTJs can be socially indifferent but they will also use social situations if the the need arises....', \"Personal stocks that I have on my desktop that I've downloaded from random stock sites and stock photobuckets.\", \"I'll tell you when I open photoshop.  :) Glad you like it static.\", ':D Thanks.', 'http://i817.photobucket.com/albums/zz96/kamioo/Deathgrip.png http://i817.photobucket.com/albums/zz96/kamioo/Deathgripbw.png  Made for a friend. Several hours of work. I constructed every line by...', \":) Static: http://i817.photobucket.com/albums/zz96/kamioo/Statickitten.png  I'll have to get to your avatar later if one of my fellow teammates doesn't.\", \"Psychologist don't keep me around long enough to diagnosis me. I like to toy with them. What I have diagnosis myself with and had a few psychologist friends (+ a few other friends) tell me I have is...'\"]\n"
          ]
        }
      ],
      "source": [
        "import pandas as pd\n",
        "\n",
        "# Read the CSV file\n",
        "data = pd.read_csv('/content/drive/MyDrive/mbti_1.csv')\n",
        "\n",
        "# Display the first few rows of the DataFrame\n",
        "print(data.head())\n",
        "\n",
        "# Loop through the 'posts' column and split the content\n",
        "for p in data.head(2).posts.values:\n",
        "    post_parts = p.split('|||')\n",
        "    print(post_parts)\n"
      ]
    },
    {
      "cell_type": "markdown",
      "metadata": {
        "id": "bG38cUSTBWOU"
      },
      "source": [
        "## **Distribution of the MBTI personality types**"
      ]
    },
    {
      "cell_type": "code",
      "execution_count": 7,
      "metadata": {
        "colab": {
          "base_uri": "https://localhost:8080/",
          "height": 392
        },
        "id": "g4pSaQkmBaCi",
        "outputId": "760d58ac-ea96-4897-9b32-c6d428c321d6"
      },
      "outputs": [
        {
          "output_type": "display_data",
          "data": {
            "text/plain": [
              "<Figure size 1200x400 with 1 Axes>"
            ],
            "image/png": "[encoded data removed]"
          },
          "metadata": {}
        }
      ],
      "source": [
        "import pandas as pd\n",
        "import seaborn as sns\n",
        "import matplotlib.pyplot as plt\n",
        "\n",
        "# Read the CSV file\n",
        "data = pd.read_csv('/content/drive/MyDrive/mbti_1.csv')\n",
        "\n",
        "# Calculate the counts of each personality type\n",
        "cnt_types = data['type'].value_counts()\n",
        "\n",
        "# Create the bar plot\n",
        "plt.figure(figsize=(12, 4))\n",
        "sns.barplot(x=cnt_types.index, y=cnt_types.values, alpha=0.8)\n",
        "plt.ylabel('Number of Occurrences', fontsize=12)\n",
        "plt.xlabel('Types', fontsize=12)\n",
        "plt.show()\n"
      ]
    },
    {
      "cell_type": "markdown",
      "metadata": {
        "id": "QEcTCnz_Bu5d"
      },
      "source": [
        "##  Add columns for the type Indicators"
      ]
    },
    {
      "cell_type": "code",
      "execution_count": 8,
      "metadata": {
        "colab": {
          "base_uri": "https://localhost:8080/",
          "height": 206
        },
        "id": "IFO2BMQmB5EP",
        "outputId": "5d0c4644-e238-4b11-8e29-afd4681110a1"
      },
      "outputs": [
        {
          "output_type": "execute_result",
          "data": {
            "text/plain": [
              "   type                                              posts  IE  NS  TF  JP\n",
              "0  INFJ  'http://www.youtube.com/watch?v=qsXHcwe3krw|||...   1   1   0   1\n",
              "1  ENTP  'I'm finding the lack of me in these posts ver...   0   1   1   0\n",
              "2  INTP  'Good one  _____   https://www.youtube.com/wat...   1   1   1   0\n",
              "3  INTJ  'Dear INTP,   I enjoyed our conversation the o...   1   1   1   1\n",
              "4  ENTJ  'You're fired.|||That's another silly misconce...   0   1   1   1"
            ],
            "text/html": [
              "\n",
              "  <div id=\"df-73ab94ad-5d8d-4d0e-aa05-b50acaacf5d6\" class=\"colab-df-container\">\n",
              "    <div>\n",
              "<style scoped>\n",
              "    .dataframe tbody tr th:only-of-type {\n",
              "        vertical-align: middle;\n",
              "    }\n",
              "\n",
              "    .dataframe tbody tr th {\n",
              "        vertical-align: top;\n",
              "    }\n",
              "\n",
              "    .dataframe thead th {\n",
              "        text-align: right;\n",
              "    }\n",
              "</style>\n",
              "<table border=\"1\" class=\"dataframe\">\n",
              "  <thead>\n",
              "    <tr style=\"text-align: right;\">\n",
              "      <th></th>\n",
              "      <th>type</th>\n",
              "      <th>posts</th>\n",
              "      <th>IE</th>\n",
              "      <th>NS</th>\n",
              "      <th>TF</th>\n",
              "      <th>JP</th>\n",
              "    </tr>\n",
              "  </thead>\n",
              "  <tbody>\n",
              "    <tr>\n",
              "      <th>0</th>\n",
              "      <td>INFJ</td>\n",
              "      <td>'http://www.youtube.com/watch?v=qsXHcwe3krw|||...</td>\n",
              "      <td>1</td>\n",
              "      <td>1</td>\n",
              "      <td>0</td>\n",
              "      <td>1</td>\n",
              "    </tr>\n",
              "    <tr>\n",
              "      <th>1</th>\n",
              "      <td>ENTP</td>\n",
              "      <td>'I'm finding the lack of me in these posts ver...</td>\n",
              "      <td>0</td>\n",
              "      <td>1</td>\n",
              "      <td>1</td>\n",
              "      <td>0</td>\n",
              "    </tr>\n",
              "    <tr>\n",
              "      <th>2</th>\n",
              "      <td>INTP</td>\n",
              "      <td>'Good one  _____   https://www.youtube.com/wat...</td>\n",
              "      <td>1</td>\n",
              "      <td>1</td>\n",
              "      <td>1</td>\n",
              "      <td>0</td>\n",
              "    </tr>\n",
              "    <tr>\n",
              "      <th>3</th>\n",
              "      <td>INTJ</td>\n",
              "      <td>'Dear INTP,   I enjoyed our conversation the o...</td>\n",
              "      <td>1</td>\n",
              "      <td>1</td>\n",
              "      <td>1</td>\n",
              "      <td>1</td>\n",
              "    </tr>\n",
              "    <tr>\n",
              "      <th>4</th>\n",
              "      <td>ENTJ</td>\n",
              "      <td>'You're fired.|||That's another silly misconce...</td>\n",
              "      <td>0</td>\n",
              "      <td>1</td>\n",
              "      <td>1</td>\n",
              "      <td>1</td>\n",
              "    </tr>\n",
              "  </tbody>\n",
              "</table>\n",
              "</div>\n",
              "    <div class=\"colab-df-buttons\">\n",
              "\n",
              "  <div class=\"colab-df-container\">\n",
              "    <button class=\"colab-df-convert\" onclick=\"convertToInteractive('df-73ab94ad-5d8d-4d0e-aa05-b50acaacf5d6')\"\n",
              "            title=\"Convert this dataframe to an interactive table.\"\n",
              "            style=\"display:none;\">\n",
              "\n",
              "  <svg xmlns=\"http://www.w3.org/2000/svg\" height=\"24px\" viewBox=\"0 -960 960 960\">\n",
              "    <path d=\"M120-120v-720h720v720H120Zm60-500h600v-160H180v160Zm220 220h160v-160H400v160Zm0 220h160v-160H400v160ZM180-400h160v-160H180v160Zm440 0h160v-160H620v160ZM180-180h160v-160H180v160Zm440 0h160v-160H620v160Z\"/>\n",
              "  </svg>\n",
              "    </button>\n",
              "\n",
              "  <style>\n",
              "    .colab-df-container {\n",
              "      display:flex;\n",
              "      gap: 12px;\n",
              "    }\n",
              "\n",
              "    .colab-df-convert {\n",
              "      background-color: #E8F0FE;\n",
              "      border: none;\n",
              "      border-radius: 50%;\n",
              "      cursor: pointer;\n",
              "      display: none;\n",
              "      fill: #1967D2;\n",
              "      height: 32px;\n",
              "      padding: 0 0 0 0;\n",
              "      width: 32px;\n",
              "    }\n",
              "\n",
              "    .colab-df-convert:hover {\n",
              "      background-color: #E2EBFA;\n",
              "      box-shadow: 0px 1px 2px rgba(60, 64, 67, 0.3), 0px 1px 3px 1px rgba(60, 64, 67, 0.15);\n",
              "      fill: #174EA6;\n",
              "    }\n",
              "\n",
              "    .colab-df-buttons div {\n",
              "      margin-bottom: 4px;\n",
              "    }\n",
              "\n",
              "    [theme=dark] .colab-df-convert {\n",
              "      background-color: #3B4455;\n",
              "      fill: #D2E3FC;\n",
              "    }\n",
              "\n",
              "    [theme=dark] .colab-df-convert:hover {\n",
              "      background-color: #434B5C;\n",
              "      box-shadow: 0px 1px 3px 1px rgba(0, 0, 0, 0.15);\n",
              "      filter: drop-shadow(0px 1px 2px rgba(0, 0, 0, 0.3));\n",
              "      fill: #FFFFFF;\n",
              "    }\n",
              "  </style>\n",
              "\n",
              "    <script>\n",
              "      const buttonEl =\n",
              "        document.querySelector('#df-73ab94ad-5d8d-4d0e-aa05-b50acaacf5d6 button.colab-df-convert');\n",
              "      buttonEl.style.display =\n",
              "        google.colab.kernel.accessAllowed ? 'block' : 'none';\n",
              "\n",
              "      async function convertToInteractive(key) {\n",
              "        const element = document.querySelector('#df-73ab94ad-5d8d-4d0e-aa05-b50acaacf5d6');\n",
              "        const dataTable =\n",
              "          await google.colab.kernel.invokeFunction('convertToInteractive',\n",
              "                                                    [key], {});\n",
              "        if (!dataTable) return;\n",
              "\n",
              "        const docLinkHtml = 'Like what you see? Visit the ' +\n",
              "          '<a target=\"_blank\" href=https://colab.research.google.com/notebooks/data_table.ipynb>data table notebook</a>'\n",
              "          + ' to learn more about interactive tables.';\n",
              "        element.innerHTML = '';\n",
              "        dataTable['output_type'] = 'display_data';\n",
              "        await google.colab.output.renderOutput(dataTable, element);\n",
              "        const docLink = document.createElement('div');\n",
              "        docLink.innerHTML = docLinkHtml;\n",
              "        element.appendChild(docLink);\n",
              "      }\n",
              "    </script>\n",
              "  </div>\n",
              "\n",
              "\n",
              "<div id=\"df-ce8c62c5-18d9-4186-b884-fc05efd52d53\">\n",
              "  <button class=\"colab-df-quickchart\" onclick=\"quickchart('df-ce8c62c5-18d9-4186-b884-fc05efd52d53')\"\n",
              "            title=\"Suggest charts.\"\n",
              "            style=\"display:none;\">\n",
              "\n",
              "<svg xmlns=\"http://www.w3.org/2000/svg\" height=\"24px\"viewBox=\"0 0 24 24\"\n",
              "     width=\"24px\">\n",
              "    <g>\n",
              "        <path d=\"M19 3H5c-1.1 0-2 .9-2 2v14c0 1.1.9 2 2 2h14c1.1 0 2-.9 2-2V5c0-1.1-.9-2-2-2zM9 17H7v-7h2v7zm4 0h-2V7h2v10zm4 0h-2v-4h2v4z\"/>\n",
              "    </g>\n",
              "</svg>\n",
              "  </button>\n",
              "\n",
              "<style>\n",
              "  .colab-df-quickchart {\n",
              "    background-color: #E8F0FE;\n",
              "    border: none;\n",
              "    border-radius: 50%;\n",
              "    cursor: pointer;\n",
              "    display: none;\n",
              "    fill: #1967D2;\n",
              "    height: 32px;\n",
              "    padding: 0 0 0 0;\n",
              "    width: 32px;\n",
              "  }\n",
              "\n",
              "  .colab-df-quickchart:hover {\n",
              "    background-color: #E2EBFA;\n",
              "    box-shadow: 0px 1px 2px rgba(60, 64, 67, 0.3), 0px 1px 3px 1px rgba(60, 64, 67, 0.15);\n",
              "    fill: #174EA6;\n",
              "  }\n",
              "\n",
              "  [theme=dark] .colab-df-quickchart {\n",
              "    background-color: #3B4455;\n",
              "    fill: #D2E3FC;\n",
              "  }\n",
              "\n",
              "  [theme=dark] .colab-df-quickchart:hover {\n",
              "    background-color: #434B5C;\n",
              "    box-shadow: 0px 1px 3px 1px rgba(0, 0, 0, 0.15);\n",
              "    filter: drop-shadow(0px 1px 2px rgba(0, 0, 0, 0.3));\n",
              "    fill: #FFFFFF;\n",
              "  }\n",
              "</style>\n",
              "\n",
              "  <script>\n",
              "    async function quickchart(key) {\n",
              "      const charts = await google.colab.kernel.invokeFunction(\n",
              "          'suggestCharts', [key], {});\n",
              "    }\n",
              "    (() => {\n",
              "      let quickchartButtonEl =\n",
              "        document.querySelector('#df-ce8c62c5-18d9-4186-b884-fc05efd52d53 button');\n",
              "      quickchartButtonEl.style.display =\n",
              "        google.colab.kernel.accessAllowed ? 'block' : 'none';\n",
              "    })();\n",
              "  </script>\n",
              "</div>\n",
              "    </div>\n",
              "  </div>\n"
            ]
          },
          "metadata": {},
          "execution_count": 8
        }
      ],
      "source": [
        "def get_types(row):\n",
        "    t=row['type']\n",
        "\n",
        "    I = 0; N = 0\n",
        "    T = 0; J = 0\n",
        "\n",
        "    if t[0] == 'I': I = 1\n",
        "    elif t[0] == 'E': I = 0\n",
        "    else: print('I-E incorrect')\n",
        "\n",
        "    if t[1] == 'N': N = 1\n",
        "    elif t[1] == 'S': N = 0\n",
        "    else: print('N-S incorrect')\n",
        "\n",
        "    if t[2] == 'T': T = 1\n",
        "    elif t[2] == 'F': T = 0\n",
        "    else: print('T-F incorrect')\n",
        "\n",
        "    if t[3] == 'J': J = 1\n",
        "    elif t[3] == 'P': J = 0\n",
        "    else: print('J-P incorrect')\n",
        "    return pd.Series( {'IE':I, 'NS':N , 'TF': T, 'JP': J })\n",
        "\n",
        "data = data.join(data.apply (lambda row: get_types (row),axis=1))\n",
        "data.head(5)"
      ]
    },
    {
      "cell_type": "code",
      "execution_count": 9,
      "metadata": {
        "colab": {
          "base_uri": "https://localhost:8080/"
        },
        "id": "GXc9hP0ICCPP",
        "outputId": "4e217f5e-fafa-4771-db45-d280988eff47"
      },
      "outputs": [
        {
          "output_type": "stream",
          "name": "stdout",
          "text": [
            "Introversion (I) /  Extroversion (E):\t 1999  /  6676\n",
            "Intuition (N) – Sensing (S):\t\t 1197  /  7478\n",
            "Thinking (T) – Feeling (F):\t\t 4694  /  3981\n",
            "Judging (J) – Perceiving (P):\t\t 5241  /  3434\n"
          ]
        }
      ],
      "source": [
        "print (\"Introversion (I) /  Extroversion (E):\\t\", data['IE'].value_counts()[0], \" / \", data['IE'].value_counts()[1])\n",
        "print (\"Intuition (N) – Sensing (S):\\t\\t\", data['NS'].value_counts()[0], \" / \", data['NS'].value_counts()[1])\n",
        "print (\"Thinking (T) – Feeling (F):\\t\\t\", data['TF'].value_counts()[0], \" / \", data['TF'].value_counts()[1])\n",
        "print (\"Judging (J) – Perceiving (P):\\t\\t\", data['JP'].value_counts()[0], \" / \", data['JP'].value_counts()[1])"
      ]
    },
    {
      "cell_type": "code",
      "execution_count": 10,
      "metadata": {
        "colab": {
          "base_uri": "https://localhost:8080/",
          "height": 452
        },
        "id": "KzuPlFUCCJKc",
        "outputId": "d8d7b2f9-657b-4cfc-c6dc-9455b90f4653"
      },
      "outputs": [
        {
          "output_type": "display_data",
          "data": {
            "text/plain": [
              "<Figure size 640x480 with 1 Axes>"
            ],
            "image/png": "[encoded data removed]"
          },
          "metadata": {}
        }
      ],
      "source": [
        "N = 4\n",
        "but = (data['IE'].value_counts()[0], data['NS'].value_counts()[0], data['TF'].value_counts()[0], data['JP'].value_counts()[0])\n",
        "top = (data['IE'].value_counts()[1], data['NS'].value_counts()[1], data['TF'].value_counts()[1], data['JP'].value_counts()[1])\n",
        "\n",
        "ind = np.arange(N)    # the x locations for the groups\n",
        "width = 0.7      # the width of the bars: can also be len(x) sequence\n",
        "\n",
        "p1 = plt.bar(ind, but, width)\n",
        "p2 = plt.bar(ind, top, width, bottom=but)\n",
        "\n",
        "plt.ylabel('Count')\n",
        "plt.title('Distribution accoss types indicators')\n",
        "plt.xticks(ind, ('I/E',  'N/S', 'T/F', 'J/P',))\n",
        "\n",
        "plt.show()"
      ]
    },
    {
      "cell_type": "markdown",
      "metadata": {
        "id": "4eumOtjPCOZw"
      },
      "source": [
        "## **6. Pearson Features Correlation**"
      ]
    },
    {
      "cell_type": "code",
      "execution_count": 11,
      "metadata": {
        "colab": {
          "base_uri": "https://localhost:8080/",
          "height": 175
        },
        "id": "Bl7BaCokCPli",
        "outputId": "62efd523-6fe0-464a-b79a-45e1c0772b94"
      },
      "outputs": [
        {
          "output_type": "execute_result",
          "data": {
            "text/plain": [
              "          IE        NS        TF        JP\n",
              "IE  1.000000 -0.045899 -0.069573  0.161939\n",
              "NS -0.045899  1.000000 -0.080954  0.014922\n",
              "TF -0.069573 -0.080954  1.000000 -0.004673\n",
              "JP  0.161939  0.014922 -0.004673  1.000000"
            ],
            "text/html": [
              "\n",
              "  <div id=\"df-246c96d2-7af8-4625-9d76-ad407d924957\" class=\"colab-df-container\">\n",
              "    <div>\n",
              "<style scoped>\n",
              "    .dataframe tbody tr th:only-of-type {\n",
              "        vertical-align: middle;\n",
              "    }\n",
              "\n",
              "    .dataframe tbody tr th {\n",
              "        vertical-align: top;\n",
              "    }\n",
              "\n",
              "    .dataframe thead th {\n",
              "        text-align: right;\n",
              "    }\n",
              "</style>\n",
              "<table border=\"1\" class=\"dataframe\">\n",
              "  <thead>\n",
              "    <tr style=\"text-align: right;\">\n",
              "      <th></th>\n",
              "      <th>IE</th>\n",
              "      <th>NS</th>\n",
              "      <th>TF</th>\n",
              "      <th>JP</th>\n",
              "    </tr>\n",
              "  </thead>\n",
              "  <tbody>\n",
              "    <tr>\n",
              "      <th>IE</th>\n",
              "      <td>1.000000</td>\n",
              "      <td>-0.045899</td>\n",
              "      <td>-0.069573</td>\n",
              "      <td>0.161939</td>\n",
              "    </tr>\n",
              "    <tr>\n",
              "      <th>NS</th>\n",
              "      <td>-0.045899</td>\n",
              "      <td>1.000000</td>\n",
              "      <td>-0.080954</td>\n",
              "      <td>0.014922</td>\n",
              "    </tr>\n",
              "    <tr>\n",
              "      <th>TF</th>\n",
              "      <td>-0.069573</td>\n",
              "      <td>-0.080954</td>\n",
              "      <td>1.000000</td>\n",
              "      <td>-0.004673</td>\n",
              "    </tr>\n",
              "    <tr>\n",
              "      <th>JP</th>\n",
              "      <td>0.161939</td>\n",
              "      <td>0.014922</td>\n",
              "      <td>-0.004673</td>\n",
              "      <td>1.000000</td>\n",
              "    </tr>\n",
              "  </tbody>\n",
              "</table>\n",
              "</div>\n",
              "    <div class=\"colab-df-buttons\">\n",
              "\n",
              "  <div class=\"colab-df-container\">\n",
              "    <button class=\"colab-df-convert\" onclick=\"convertToInteractive('df-246c96d2-7af8-4625-9d76-ad407d924957')\"\n",
              "            title=\"Convert this dataframe to an interactive table.\"\n",
              "            style=\"display:none;\">\n",
              "\n",
              "  <svg xmlns=\"http://www.w3.org/2000/svg\" height=\"24px\" viewBox=\"0 -960 960 960\">\n",
              "    <path d=\"M120-120v-720h720v720H120Zm60-500h600v-160H180v160Zm220 220h160v-160H400v160Zm0 220h160v-160H400v160ZM180-400h160v-160H180v160Zm440 0h160v-160H620v160ZM180-180h160v-160H180v160Zm440 0h160v-160H620v160Z\"/>\n",
              "  </svg>\n",
              "    </button>\n",
              "\n",
              "  <style>\n",
              "    .colab-df-container {\n",
              "      display:flex;\n",
              "      gap: 12px;\n",
              "    }\n",
              "\n",
              "    .colab-df-convert {\n",
              "      background-color: #E8F0FE;\n",
              "      border: none;\n",
              "      border-radius: 50%;\n",
              "      cursor: pointer;\n",
              "      display: none;\n",
              "      fill: #1967D2;\n",
              "      height: 32px;\n",
              "      padding: 0 0 0 0;\n",
              "      width: 32px;\n",
              "    }\n",
              "\n",
              "    .colab-df-convert:hover {\n",
              "      background-color: #E2EBFA;\n",
              "      box-shadow: 0px 1px 2px rgba(60, 64, 67, 0.3), 0px 1px 3px 1px rgba(60, 64, 67, 0.15);\n",
              "      fill: #174EA6;\n",
              "    }\n",
              "\n",
              "    .colab-df-buttons div {\n",
              "      margin-bottom: 4px;\n",
              "    }\n",
              "\n",
              "    [theme=dark] .colab-df-convert {\n",
              "      background-color: #3B4455;\n",
              "      fill: #D2E3FC;\n",
              "    }\n",
              "\n",
              "    [theme=dark] .colab-df-convert:hover {\n",
              "      background-color: #434B5C;\n",
              "      box-shadow: 0px 1px 3px 1px rgba(0, 0, 0, 0.15);\n",
              "      filter: drop-shadow(0px 1px 2px rgba(0, 0, 0, 0.3));\n",
              "      fill: #FFFFFF;\n",
              "    }\n",
              "  </style>\n",
              "\n",
              "    <script>\n",
              "      const buttonEl =\n",
              "        document.querySelector('#df-246c96d2-7af8-4625-9d76-ad407d924957 button.colab-df-convert');\n",
              "      buttonEl.style.display =\n",
              "        google.colab.kernel.accessAllowed ? 'block' : 'none';\n",
              "\n",
              "      async function convertToInteractive(key) {\n",
              "        const element = document.querySelector('#df-246c96d2-7af8-4625-9d76-ad407d924957');\n",
              "        const dataTable =\n",
              "          await google.colab.kernel.invokeFunction('convertToInteractive',\n",
              "                                                    [key], {});\n",
              "        if (!dataTable) return;\n",
              "\n",
              "        const docLinkHtml = 'Like what you see? Visit the ' +\n",
              "          '<a target=\"_blank\" href=https://colab.research.google.com/notebooks/data_table.ipynb>data table notebook</a>'\n",
              "          + ' to learn more about interactive tables.';\n",
              "        element.innerHTML = '';\n",
              "        dataTable['output_type'] = 'display_data';\n",
              "        await google.colab.output.renderOutput(dataTable, element);\n",
              "        const docLink = document.createElement('div');\n",
              "        docLink.innerHTML = docLinkHtml;\n",
              "        element.appendChild(docLink);\n",
              "      }\n",
              "    </script>\n",
              "  </div>\n",
              "\n",
              "    </div>\n",
              "  </div>\n"
            ]
          },
          "metadata": {},
          "execution_count": 11
        }
      ],
      "source": [
        "data[['IE','NS','TF','JP']].corr()"
      ]
    },
    {
      "cell_type": "markdown",
      "metadata": {
        "id": "-b_FTc5YCVO1"
      },
      "source": [
        "Unclear if the matrix shows anything valuable for interpretation."
      ]
    },
    {
      "cell_type": "code",
      "execution_count": 12,
      "metadata": {
        "colab": {
          "base_uri": "https://localhost:8080/",
          "height": 872
        },
        "id": "opYnBV93CWav",
        "outputId": "9e5e8152-42ad-4966-fda5-3097e2f15823"
      },
      "outputs": [
        {
          "output_type": "execute_result",
          "data": {
            "text/plain": [
              "<Axes: title={'center': 'Pearson Features Correlation'}>"
            ]
          },
          "metadata": {},
          "execution_count": 12
        },
        {
          "output_type": "display_data",
          "data": {
            "text/plain": [
              "<Figure size 1200x1000 with 2 Axes>"
            ],
            "image/png": "[encoded data removed]"
          },
          "metadata": {}
        }
      ],
      "source": [
        "cmap = plt.cm.RdBu\n",
        "corr = data[['IE','NS','TF','JP']].corr()\n",
        "plt.figure(figsize=(12,10))\n",
        "plt.title('Pearson Features Correlation', size=15)\n",
        "sns.heatmap(corr, cmap=cmap,  annot=True, linewidths=1)"
      ]
    },
    {
      "cell_type": "markdown",
      "metadata": {
        "id": "uDm8iCzDCcE6"
      },
      "source": [
        "## **Prepare data**"
      ]
    },
    {
      "cell_type": "code",
      "execution_count": 13,
      "metadata": {
        "colab": {
          "base_uri": "https://localhost:8080/"
        },
        "id": "iZcxR_tmCfCj",
        "outputId": "a8bfc170-744e-4fa4-9d20-c21b43f370d0"
      },
      "outputs": [
        {
          "output_type": "stream",
          "name": "stdout",
          "text": [
            "Binarize MBTI list: \n",
            "[[0 0 0 0]\n",
            " [1 0 1 1]\n",
            " [0 0 1 1]\n",
            " [0 0 1 0]]\n"
          ]
        }
      ],
      "source": [
        "b_Pers = {'I':0, 'E':1, 'N':0, 'S':1, 'F':0, 'T':1, 'J':0, 'P':1}\n",
        "b_Pers_list = [{0:'I', 1:'E'}, {0:'N', 1:'S'}, {0:'F', 1:'T'}, {0:'J', 1:'P'}]\n",
        "\n",
        "def translate_personality(personality):\n",
        "    # transform mbti to binary vector\n",
        "\n",
        "    return [b_Pers[l] for l in personality]\n",
        "\n",
        "def translate_back(personality):\n",
        "    # transform binary vector to mbti personality\n",
        "\n",
        "    s = \"\"\n",
        "    for i, l in enumerate(personality):\n",
        "        s += b_Pers_list[i][l]\n",
        "    return s\n",
        "\n",
        "# Check ...\n",
        "d = data.head(4)\n",
        "list_personality_bin = np.array([translate_personality(p) for p in d.type])\n",
        "print(\"Binarize MBTI list: \\n%s\" % list_personality_bin)"
      ]
    },
    {
      "cell_type": "code",
      "execution_count": 14,
      "metadata": {
        "colab": {
          "base_uri": "https://localhost:8080/"
        },
        "id": "MlwN25GoCk3u",
        "outputId": "a7477bf6-8fd0-462c-ae42-01ba612b9d73"
      },
      "outputs": [
        {
          "output_type": "stream",
          "name": "stderr",
          "text": [
            "[nltk_data] Downloading package stopwords to /root/nltk_data...\n",
            "[nltk_data]   Unzipping corpora/stopwords.zip.\n"
          ]
        },
        {
          "output_type": "execute_result",
          "data": {
            "text/plain": [
              "True"
            ]
          },
          "metadata": {},
          "execution_count": 14
        }
      ],
      "source": [
        "import nltk\n",
        "nltk.download('stopwords')"
      ]
    },
    {
      "cell_type": "code",
      "execution_count": 15,
      "metadata": {
        "id": "Z0bYEgIzCnd8"
      },
      "outputs": [],
      "source": [
        "##### Compute list of subject with Type | list of comments\n",
        "from nltk.stem import PorterStemmer, WordNetLemmatizer\n",
        "from nltk.corpus import stopwords\n",
        "from nltk import word_tokenize\n",
        "\n",
        "\n",
        "  #Resource stopwords not found.\n",
        "  #Please use the NLTK Downloader to obtain the resource:\n",
        "\n",
        "# We want to remove these from the posts\n",
        "unique_type_list = ['INFJ', 'ENTP', 'INTP', 'INTJ', 'ENTJ', 'ENFJ', 'INFP', 'ENFP',\n",
        "       'ISFP', 'ISTP', 'ISFJ', 'ISTJ', 'ESTP', 'ESFP', 'ESTJ', 'ESFJ']\n",
        "\n",
        "unique_type_list = [x.lower() for x in unique_type_list]\n",
        "\n",
        "\n",
        "# Lemmatize\n",
        "stemmer = PorterStemmer()\n",
        "lemmatiser = WordNetLemmatizer()\n",
        "\n",
        "# Cache the stop words for speed\n",
        "cachedStopWords = stopwords.words(\"english\")\n",
        "\n",
        "def pre_process_data(data, remove_stop_words=True, remove_mbti_profiles=True):\n",
        "\n",
        "    list_personality = []\n",
        "    list_posts = []\n",
        "    len_data = len(data)\n",
        "    i=0\n",
        "\n",
        "    for row in data.iterrows():\n",
        "        i+=1\n",
        "        if (i % 500 == 0 or i == 1 or i == len_data):\n",
        "            print(\"%s of %s rows\" % (i, len_data))\n",
        "\n",
        "        ##### Remove and clean comments\n",
        "        posts = row[1].posts\n",
        "        temp = re.sub('http[s]?://(?:[a-zA-Z]|[0-9]|[$-_@.&+]|(?:%[0-9a-fA-F][0-9a-fA-F]))+', ' ', posts)\n",
        "        temp = re.sub(\"[^a-zA-Z]\", \" \", temp)\n",
        "        temp = re.sub(' +', ' ', temp).lower()\n",
        "        if remove_stop_words:\n",
        "            temp = \" \".join([lemmatiser.lemmatize(w) for w in temp.split(' ') if w not in cachedStopWords])\n",
        "        else:\n",
        "            temp = \" \".join([lemmatiser.lemmatize(w) for w in temp.split(' ')])\n",
        "\n",
        "        if remove_mbti_profiles:\n",
        "            for t in unique_type_list:\n",
        "                temp = temp.replace(t,\"\")\n",
        "\n",
        "        type_labelized = translate_personality(row[1].type)\n",
        "        list_personality.append(type_labelized)\n",
        "        list_posts.append(temp)\n",
        "\n",
        "    list_posts = np.array(list_posts)\n",
        "    list_personality = np.array(list_personality)\n",
        "    return list_posts, list_personality"
      ]
    },
    {
      "cell_type": "code",
      "execution_count": 16,
      "metadata": {
        "colab": {
          "base_uri": "https://localhost:8080/"
        },
        "id": "kiyjL0agCsny",
        "outputId": "02dd03ed-6107-48ef-97d5-46738b1b3a89"
      },
      "outputs": [
        {
          "output_type": "stream",
          "name": "stderr",
          "text": [
            "[nltk_data] Downloading package wordnet to /root/nltk_data...\n"
          ]
        },
        {
          "output_type": "execute_result",
          "data": {
            "text/plain": [
              "True"
            ]
          },
          "metadata": {},
          "execution_count": 16
        }
      ],
      "source": [
        "#LookupError:\n",
        "#**********************************************************************\n",
        "#  Resource wordnet not found.\n",
        "#  Please use the NLTK Downloader to obtain the resource:\n",
        "import nltk\n",
        "nltk.download('wordnet')"
      ]
    },
    {
      "cell_type": "code",
      "execution_count": 17,
      "metadata": {
        "colab": {
          "base_uri": "https://localhost:8080/"
        },
        "id": "e5pTT_n3CvHU",
        "outputId": "d2f538f4-364b-4fbb-94b0-23294b89960c"
      },
      "outputs": [
        {
          "output_type": "stream",
          "name": "stdout",
          "text": [
            "1 of 8675 rows\n",
            "500 of 8675 rows\n",
            "1000 of 8675 rows\n",
            "1500 of 8675 rows\n",
            "2000 of 8675 rows\n",
            "2500 of 8675 rows\n",
            "3000 of 8675 rows\n",
            "3500 of 8675 rows\n",
            "4000 of 8675 rows\n",
            "4500 of 8675 rows\n",
            "5000 of 8675 rows\n",
            "5500 of 8675 rows\n",
            "6000 of 8675 rows\n",
            "6500 of 8675 rows\n",
            "7000 of 8675 rows\n",
            "7500 of 8675 rows\n",
            "8000 of 8675 rows\n",
            "8500 of 8675 rows\n",
            "8675 of 8675 rows\n"
          ]
        }
      ],
      "source": [
        "list_posts, list_personality  = pre_process_data(data, remove_stop_words=True)"
      ]
    },
    {
      "cell_type": "code",
      "execution_count": 18,
      "metadata": {
        "colab": {
          "base_uri": "https://localhost:8080/"
        },
        "id": "krG3-wo3C4w0",
        "outputId": "b278c7b6-c44f-428d-9b31-c39663274333"
      },
      "outputs": [
        {
          "output_type": "stream",
          "name": "stdout",
          "text": [
            "Num posts and personalities:  (8675,) (8675, 4)\n"
          ]
        }
      ],
      "source": [
        "print(\"Num posts and personalities: \",  list_posts.shape, list_personality.shape)"
      ]
    },
    {
      "cell_type": "code",
      "execution_count": 19,
      "metadata": {
        "colab": {
          "base_uri": "https://localhost:8080/",
          "height": 123
        },
        "id": "GAEPr8CRC6U1",
        "outputId": "99a7ccbe-9ce3-4f97-e65c-5bd2bac1c727"
      },
      "outputs": [
        {
          "output_type": "execute_result",
          "data": {
            "text/plain": [
              "'   moment sportscenter top ten play prank life changing experience life repeat today may perc experience immerse last thing  friend posted facebook committing suicide next day rest peace hello  sorry hear distress natural relationship perfection time every moment existence try figure hard time time growth welcome stuff game set match prozac wellbrutin least thirty minute moving leg mean moving sitting desk chair weed moderation maybe try edible healthier alternative basically come three item determined type whichever type want would likely use given type cognitive function whatnot left thing moderation sims indeed video game good one note good one somewhat subjective completely promoting death given sim dear  favorite video game growing current favorite video game cool appears late sad someone everyone wait thought confidence good thing cherish time solitude b c revel within inner world whereas time workin enjoy time worry people always around yo  lady complimentary personality well hey main social outlet xbox live conversation even verbally fatigue quickly really dig part banned thread requires get high backyard roast eat marshmellows backyard conversing something intellectual followed massage kiss banned many b sentence could think b banned watching movie corner dunce banned health class clearly taught nothing peer pressure banned whole host reason two baby deer left right munching beetle middle using blood two caveman diary today latest happening designated cave diary wall see pokemon world  society everyone becomes optimist artist artist draw idea count forming something like signature welcome robot rank person downed self esteem cuz avid signature artist like proud banned taking room bed ya gotta learn share roach banned much thundering grumbling kind storm yep ahh old high school music heard age failed public speaking class year ago sort learned could better position big part failure overloading like person mentality confirmed  way move denver area start new life '"
            ],
            "application/vnd.google.colaboratory.intrinsic+json": {
              "type": "string"
            }
          },
          "metadata": {},
          "execution_count": 19
        }
      ],
      "source": [
        "list_posts[0]"
      ]
    },
    {
      "cell_type": "code",
      "execution_count": 20,
      "metadata": {
        "colab": {
          "base_uri": "https://localhost:8080/"
        },
        "id": "I8nJ6WdHC-YY",
        "outputId": "1e3312cb-5cd2-47ba-f9b7-7d90c0b6672c"
      },
      "outputs": [
        {
          "output_type": "execute_result",
          "data": {
            "text/plain": [
              "array([0, 0, 0, 0])"
            ]
          },
          "metadata": {},
          "execution_count": 20
        }
      ],
      "source": [
        "list_personality[0]"
      ]
    },
    {
      "cell_type": "markdown",
      "metadata": {
        "id": "9Dpe7R7kDHxb"
      },
      "source": [
        "## **Vectorize with count and tf-idf**"
      ]
    },
    {
      "cell_type": "code",
      "execution_count": 21,
      "metadata": {
        "colab": {
          "base_uri": "https://localhost:8080/"
        },
        "id": "xmOBHzFpDL9u",
        "outputId": "a4802633-e155-4db9-f0d6-d1cdc38107ef"
      },
      "outputs": [
        {
          "output_type": "stream",
          "name": "stdout",
          "text": [
            "CountVectorizer...\n",
            "Tf-idf...\n"
          ]
        }
      ],
      "source": [
        "from sklearn.feature_extraction.text import TfidfTransformer\n",
        "from sklearn.feature_extraction.text import CountVectorizer\n",
        "from sklearn.manifold import TSNE\n",
        "\n",
        "# Posts to a matrix of token counts\n",
        "cntizer = CountVectorizer(analyzer=\"word\",\n",
        "                             max_features=1500,\n",
        "                             tokenizer=None,\n",
        "                             preprocessor=None,\n",
        "                             stop_words=None,\n",
        "                             max_df=0.7,\n",
        "                             min_df=0.1)\n",
        "\n",
        "# Learn the vocabulary dictionary and return term-document matrix\n",
        "print(\"CountVectorizer...\")\n",
        "X_cnt = cntizer.fit_transform(list_posts)\n",
        "\n",
        "# Transform the count matrix to a normalized tf or tf-idf representation\n",
        "tfizer = TfidfTransformer()\n",
        "\n",
        "print(\"Tf-idf...\")\n",
        "# Learn the idf vector (fit) and transform a count matrix to a tf-idf representation\n",
        "X_tfidf =  tfizer.fit_transform(X_cnt).toarray()"
      ]
    },
    {
      "cell_type": "code",
      "execution_count": 22,
      "metadata": {
        "colab": {
          "base_uri": "https://localhost:8080/"
        },
        "id": "G_VLkpbRDRij",
        "outputId": "e9e6feae-3249-4219-9b0d-1c1068d33046"
      },
      "outputs": [
        {
          "output_type": "execute_result",
          "data": {
            "text/plain": [
              "[(0, 'ability'),\n",
              " (1, 'able'),\n",
              " (2, 'absolutely'),\n",
              " (3, 'accept'),\n",
              " (4, 'accurate'),\n",
              " (5, 'across'),\n",
              " (6, 'act'),\n",
              " (7, 'action'),\n",
              " (8, 'actual'),\n",
              " (9, 'actually'),\n",
              " (10, 'add'),\n",
              " (11, 'admit'),\n",
              " (12, 'advice'),\n",
              " (13, 'afraid'),\n",
              " (14, 'age'),\n",
              " (15, 'ago'),\n",
              " (16, 'agree'),\n",
              " (17, 'ah'),\n",
              " (18, 'almost'),\n",
              " (19, 'alone'),\n",
              " (20, 'along'),\n",
              " (21, 'already'),\n",
              " (22, 'although'),\n",
              " (23, 'amazing'),\n",
              " (24, 'amount'),\n",
              " (25, 'angry'),\n",
              " (26, 'animal'),\n",
              " (27, 'annoying'),\n",
              " (28, 'another'),\n",
              " (29, 'answer'),\n",
              " (30, 'anxiety'),\n",
              " (31, 'anymore'),\n",
              " (32, 'anyone'),\n",
              " (33, 'anything'),\n",
              " (34, 'anyway'),\n",
              " (35, 'apparently'),\n",
              " (36, 'appreciate'),\n",
              " (37, 'approach'),\n",
              " (38, 'area'),\n",
              " (39, 'argument'),\n",
              " (40, 'around'),\n",
              " (41, 'art'),\n",
              " (42, 'ask'),\n",
              " (43, 'asked'),\n",
              " (44, 'asking'),\n",
              " (45, 'aspect'),\n",
              " (46, 'assume'),\n",
              " (47, 'attention'),\n",
              " (48, 'attracted'),\n",
              " (49, 'avatar'),\n",
              " (50, 'avoid'),\n",
              " (51, 'aware'),\n",
              " (52, 'away'),\n",
              " (53, 'awesome'),\n",
              " (54, 'awkward'),\n",
              " (55, 'baby'),\n",
              " (56, 'back'),\n",
              " (57, 'bad'),\n",
              " (58, 'based'),\n",
              " (59, 'basically'),\n",
              " (60, 'beautiful'),\n",
              " (61, 'become'),\n",
              " (62, 'bed'),\n",
              " (63, 'behavior'),\n",
              " (64, 'behind'),\n",
              " (65, 'belief'),\n",
              " (66, 'believe'),\n",
              " (67, 'best'),\n",
              " (68, 'better'),\n",
              " (69, 'big'),\n",
              " (70, 'bit'),\n",
              " (71, 'black'),\n",
              " (72, 'blue'),\n",
              " (73, 'body'),\n",
              " (74, 'book'),\n",
              " (75, 'bored'),\n",
              " (76, 'boring'),\n",
              " (77, 'born'),\n",
              " (78, 'bother'),\n",
              " (79, 'boy'),\n",
              " (80, 'boyfriend'),\n",
              " (81, 'brain'),\n",
              " (82, 'break'),\n",
              " (83, 'bring'),\n",
              " (84, 'brother'),\n",
              " (85, 'buy'),\n",
              " (86, 'call'),\n",
              " (87, 'called'),\n",
              " (88, 'came'),\n",
              " (89, 'cannot'),\n",
              " (90, 'car'),\n",
              " (91, 'care'),\n",
              " (92, 'career'),\n",
              " (93, 'case'),\n",
              " (94, 'cat'),\n",
              " (95, 'cause'),\n",
              " (96, 'certain'),\n",
              " (97, 'certainly'),\n",
              " (98, 'chance'),\n",
              " (99, 'change'),\n",
              " (100, 'changed'),\n",
              " (101, 'character'),\n",
              " (102, 'check'),\n",
              " (103, 'child'),\n",
              " (104, 'choice'),\n",
              " (105, 'choose'),\n",
              " (106, 'class'),\n",
              " (107, 'clear'),\n",
              " (108, 'clearly'),\n",
              " (109, 'close'),\n",
              " (110, 'cognitive'),\n",
              " (111, 'cold'),\n",
              " (112, 'college'),\n",
              " (113, 'color'),\n",
              " (114, 'come'),\n",
              " (115, 'comfortable'),\n",
              " (116, 'coming'),\n",
              " (117, 'comment'),\n",
              " (118, 'common'),\n",
              " (119, 'company'),\n",
              " (120, 'complete'),\n",
              " (121, 'completely'),\n",
              " (122, 'computer'),\n",
              " (123, 'concept'),\n",
              " (124, 'confused'),\n",
              " (125, 'connection'),\n",
              " (126, 'consider'),\n",
              " (127, 'considered'),\n",
              " (128, 'considering'),\n",
              " (129, 'constantly'),\n",
              " (130, 'contact'),\n",
              " (131, 'control'),\n",
              " (132, 'conversation'),\n",
              " (133, 'cool'),\n",
              " (134, 'correct'),\n",
              " (135, 'count'),\n",
              " (136, 'country'),\n",
              " (137, 'couple'),\n",
              " (138, 'course'),\n",
              " (139, 'crazy'),\n",
              " (140, 'create'),\n",
              " (141, 'creative'),\n",
              " (142, 'cry'),\n",
              " (143, 'curious'),\n",
              " (144, 'current'),\n",
              " (145, 'currently'),\n",
              " (146, 'cut'),\n",
              " (147, 'cute'),\n",
              " (148, 'dad'),\n",
              " (149, 'damn'),\n",
              " (150, 'dark'),\n",
              " (151, 'date'),\n",
              " (152, 'dating'),\n",
              " (153, 'day'),\n",
              " (154, 'dead'),\n",
              " (155, 'deal'),\n",
              " (156, 'dear'),\n",
              " (157, 'death'),\n",
              " (158, 'debate'),\n",
              " (159, 'decide'),\n",
              " (160, 'decided'),\n",
              " (161, 'decision'),\n",
              " (162, 'deep'),\n",
              " (163, 'definitely'),\n",
              " (164, 'degree'),\n",
              " (165, 'depends'),\n",
              " (166, 'depressed'),\n",
              " (167, 'depression'),\n",
              " (168, 'describe'),\n",
              " (169, 'description'),\n",
              " (170, 'desire'),\n",
              " (171, 'detail'),\n",
              " (172, 'die'),\n",
              " (173, 'difference'),\n",
              " (174, 'different'),\n",
              " (175, 'difficult'),\n",
              " (176, 'discussion'),\n",
              " (177, 'dislike'),\n",
              " (178, 'dog'),\n",
              " (179, 'dominant'),\n",
              " (180, 'done'),\n",
              " (181, 'dont'),\n",
              " (182, 'doubt'),\n",
              " (183, 'dream'),\n",
              " (184, 'drink'),\n",
              " (185, 'drive'),\n",
              " (186, 'due'),\n",
              " (187, 'early'),\n",
              " (188, 'easier'),\n",
              " (189, 'easily'),\n",
              " (190, 'easy'),\n",
              " (191, 'eat'),\n",
              " (192, 'edit'),\n",
              " (193, 'effect'),\n",
              " (194, 'effort'),\n",
              " (195, 'either'),\n",
              " (196, 'else'),\n",
              " (197, 'emotion'),\n",
              " (198, 'emotional'),\n",
              " (199, 'emotionally'),\n",
              " (200, 'end'),\n",
              " (201, 'ended'),\n",
              " (202, 'energy'),\n",
              " (203, 'english'),\n",
              " (204, 'enjoy'),\n",
              " (205, 'enneagram'),\n",
              " (206, 'enough'),\n",
              " (207, 'entire'),\n",
              " (208, 'environment'),\n",
              " (209, 'especially'),\n",
              " (210, 'etc'),\n",
              " (211, 'ever'),\n",
              " (212, 'every'),\n",
              " (213, 'everyone'),\n",
              " (214, 'everything'),\n",
              " (215, 'evil'),\n",
              " (216, 'ex'),\n",
              " (217, 'exact'),\n",
              " (218, 'exactly'),\n",
              " (219, 'example'),\n",
              " (220, 'except'),\n",
              " (221, 'exist'),\n",
              " (222, 'expect'),\n",
              " (223, 'experience'),\n",
              " (224, 'explain'),\n",
              " (225, 'express'),\n",
              " (226, 'extremely'),\n",
              " (227, 'extrovert'),\n",
              " (228, 'extroverted'),\n",
              " (229, 'eye'),\n",
              " (230, 'face'),\n",
              " (231, 'fact'),\n",
              " (232, 'fair'),\n",
              " (233, 'fairly'),\n",
              " (234, 'fall'),\n",
              " (235, 'family'),\n",
              " (236, 'fan'),\n",
              " (237, 'far'),\n",
              " (238, 'fast'),\n",
              " (239, 'father'),\n",
              " (240, 'favorite'),\n",
              " (241, 'fe'),\n",
              " (242, 'fear'),\n",
              " (243, 'feeling'),\n",
              " (244, 'fellow'),\n",
              " (245, 'felt'),\n",
              " (246, 'female'),\n",
              " (247, 'fi'),\n",
              " (248, 'fight'),\n",
              " (249, 'figure'),\n",
              " (250, 'finally'),\n",
              " (251, 'finding'),\n",
              " (252, 'fine'),\n",
              " (253, 'fit'),\n",
              " (254, 'focus'),\n",
              " (255, 'follow'),\n",
              " (256, 'food'),\n",
              " (257, 'forget'),\n",
              " (258, 'form'),\n",
              " (259, 'forum'),\n",
              " (260, 'found'),\n",
              " (261, 'four'),\n",
              " (262, 'free'),\n",
              " (263, 'friendship'),\n",
              " (264, 'front'),\n",
              " (265, 'fuck'),\n",
              " (266, 'full'),\n",
              " (267, 'fun'),\n",
              " (268, 'function'),\n",
              " (269, 'funny'),\n",
              " (270, 'future'),\n",
              " (271, 'game'),\n",
              " (272, 'gave'),\n",
              " (273, 'general'),\n",
              " (274, 'generally'),\n",
              " (275, 'getting'),\n",
              " (276, 'girl'),\n",
              " (277, 'give'),\n",
              " (278, 'given'),\n",
              " (279, 'giving'),\n",
              " (280, 'glad'),\n",
              " (281, 'goal'),\n",
              " (282, 'god'),\n",
              " (283, 'gone'),\n",
              " (284, 'gonna'),\n",
              " (285, 'got'),\n",
              " (286, 'gotten'),\n",
              " (287, 'grade'),\n",
              " (288, 'great'),\n",
              " (289, 'group'),\n",
              " (290, 'guess'),\n",
              " (291, 'guy'),\n",
              " (292, 'haha'),\n",
              " (293, 'hair'),\n",
              " (294, 'half'),\n",
              " (295, 'hand'),\n",
              " (296, 'hang'),\n",
              " (297, 'happen'),\n",
              " (298, 'happened'),\n",
              " (299, 'happens'),\n",
              " (300, 'happy'),\n",
              " (301, 'hard'),\n",
              " (302, 'hate'),\n",
              " (303, 'head'),\n",
              " (304, 'healthy'),\n",
              " (305, 'hear'),\n",
              " (306, 'heard'),\n",
              " (307, 'heart'),\n",
              " (308, 'hell'),\n",
              " (309, 'hello'),\n",
              " (310, 'help'),\n",
              " (311, 'helped'),\n",
              " (312, 'helpful'),\n",
              " (313, 'hey'),\n",
              " (314, 'hi'),\n",
              " (315, 'high'),\n",
              " (316, 'highly'),\n",
              " (317, 'history'),\n",
              " (318, 'hit'),\n",
              " (319, 'hmm'),\n",
              " (320, 'hold'),\n",
              " (321, 'home'),\n",
              " (322, 'honest'),\n",
              " (323, 'honestly'),\n",
              " (324, 'hope'),\n",
              " (325, 'hot'),\n",
              " (326, 'hour'),\n",
              " (327, 'house'),\n",
              " (328, 'however'),\n",
              " (329, 'hug'),\n",
              " (330, 'huge'),\n",
              " (331, 'human'),\n",
              " (332, 'humor'),\n",
              " (333, 'hurt'),\n",
              " (334, 'idea'),\n",
              " (335, 'ideal'),\n",
              " (336, 'im'),\n",
              " (337, 'image'),\n",
              " (338, 'imagine'),\n",
              " (339, 'important'),\n",
              " (340, 'individual'),\n",
              " (341, 'information'),\n",
              " (342, 'inside'),\n",
              " (343, 'instead'),\n",
              " (344, 'intelligence'),\n",
              " (345, 'intelligent'),\n",
              " (346, 'interaction'),\n",
              " (347, 'interest'),\n",
              " (348, 'interested'),\n",
              " (349, 'interesting'),\n",
              " (350, 'internet'),\n",
              " (351, 'introvert'),\n",
              " (352, 'introverted'),\n",
              " (353, 'intuition'),\n",
              " (354, 'intuitive'),\n",
              " (355, 'involved'),\n",
              " (356, 'issue'),\n",
              " (357, 'job'),\n",
              " (358, 'joke'),\n",
              " (359, 'keep'),\n",
              " (360, 'kid'),\n",
              " (361, 'kill'),\n",
              " (362, 'kind'),\n",
              " (363, 'kinda'),\n",
              " (364, 'knew'),\n",
              " (365, 'knowing'),\n",
              " (366, 'knowledge'),\n",
              " (367, 'known'),\n",
              " (368, 'lack'),\n",
              " (369, 'language'),\n",
              " (370, 'large'),\n",
              " (371, 'last'),\n",
              " (372, 'late'),\n",
              " (373, 'lately'),\n",
              " (374, 'later'),\n",
              " (375, 'laugh'),\n",
              " (376, 'laughing'),\n",
              " (377, 'lazy'),\n",
              " (378, 'le'),\n",
              " (379, 'lead'),\n",
              " (380, 'learn'),\n",
              " (381, 'learned'),\n",
              " (382, 'learning'),\n",
              " (383, 'least'),\n",
              " (384, 'leave'),\n",
              " (385, 'left'),\n",
              " (386, 'let'),\n",
              " (387, 'level'),\n",
              " (388, 'lie'),\n",
              " (389, 'light'),\n",
              " (390, 'liked'),\n",
              " (391, 'likely'),\n",
              " (392, 'line'),\n",
              " (393, 'link'),\n",
              " (394, 'list'),\n",
              " (395, 'listen'),\n",
              " (396, 'listening'),\n",
              " (397, 'literally'),\n",
              " (398, 'little'),\n",
              " (399, 'live'),\n",
              " (400, 'living'),\n",
              " (401, 'logic'),\n",
              " (402, 'logical'),\n",
              " (403, 'lol'),\n",
              " (404, 'long'),\n",
              " (405, 'longer'),\n",
              " (406, 'look'),\n",
              " (407, 'looked'),\n",
              " (408, 'looking'),\n",
              " (409, 'lose'),\n",
              " (410, 'lost'),\n",
              " (411, 'loud'),\n",
              " (412, 'loved'),\n",
              " (413, 'low'),\n",
              " (414, 'made'),\n",
              " (415, 'main'),\n",
              " (416, 'major'),\n",
              " (417, 'making'),\n",
              " (418, 'male'),\n",
              " (419, 'man'),\n",
              " (420, 'many'),\n",
              " (421, 'math'),\n",
              " (422, 'matter'),\n",
              " (423, 'may'),\n",
              " (424, 'maybe'),\n",
              " (425, 'mbti'),\n",
              " (426, 'mean'),\n",
              " (427, 'meaning'),\n",
              " (428, 'meant'),\n",
              " (429, 'meet'),\n",
              " (430, 'member'),\n",
              " (431, 'memory'),\n",
              " (432, 'men'),\n",
              " (433, 'mental'),\n",
              " (434, 'mention'),\n",
              " (435, 'mentioned'),\n",
              " (436, 'message'),\n",
              " (437, 'met'),\n",
              " (438, 'middle'),\n",
              " (439, 'might'),\n",
              " (440, 'mind'),\n",
              " (441, 'mine'),\n",
              " (442, 'minute'),\n",
              " (443, 'miss'),\n",
              " (444, 'mistake'),\n",
              " (445, 'mom'),\n",
              " (446, 'moment'),\n",
              " (447, 'money'),\n",
              " (448, 'month'),\n",
              " (449, 'mood'),\n",
              " (450, 'morning'),\n",
              " (451, 'mostly'),\n",
              " (452, 'mother'),\n",
              " (453, 'move'),\n",
              " (454, 'movie'),\n",
              " (455, 'music'),\n",
              " (456, 'must'),\n",
              " (457, 'name'),\n",
              " (458, 'natural'),\n",
              " (459, 'naturally'),\n",
              " (460, 'nature'),\n",
              " (461, 'ne'),\n",
              " (462, 'necessarily'),\n",
              " (463, 'needed'),\n",
              " (464, 'negative'),\n",
              " (465, 'new'),\n",
              " (466, 'next'),\n",
              " (467, 'ni'),\n",
              " (468, 'nice'),\n",
              " (469, 'night'),\n",
              " (470, 'non'),\n",
              " (471, 'none'),\n",
              " (472, 'normal'),\n",
              " (473, 'note'),\n",
              " (474, 'nothing'),\n",
              " (475, 'notice'),\n",
              " (476, 'noticed'),\n",
              " (477, 'nt'),\n",
              " (478, 'number'),\n",
              " (479, 'obvious'),\n",
              " (480, 'obviously'),\n",
              " (481, 'often'),\n",
              " (482, 'oh'),\n",
              " (483, 'ok'),\n",
              " (484, 'okay'),\n",
              " (485, 'old'),\n",
              " (486, 'older'),\n",
              " (487, 'online'),\n",
              " (488, 'op'),\n",
              " (489, 'open'),\n",
              " (490, 'opinion'),\n",
              " (491, 'opposite'),\n",
              " (492, 'option'),\n",
              " (493, 'order'),\n",
              " (494, 'original'),\n",
              " (495, 'others'),\n",
              " (496, 'otherwise'),\n",
              " (497, 'outside'),\n",
              " (498, 'page'),\n",
              " (499, 'pain'),\n",
              " (500, 'parent'),\n",
              " (501, 'part'),\n",
              " (502, 'particular'),\n",
              " (503, 'particularly'),\n",
              " (504, 'partner'),\n",
              " (505, 'party'),\n",
              " (506, 'past'),\n",
              " (507, 'pay'),\n",
              " (508, 'perc'),\n",
              " (509, 'perfect'),\n",
              " (510, 'perhaps'),\n",
              " (511, 'period'),\n",
              " (512, 'personal'),\n",
              " (513, 'personality'),\n",
              " (514, 'personally'),\n",
              " (515, 'perspective'),\n",
              " (516, 'phone'),\n",
              " (517, 'physical'),\n",
              " (518, 'pick'),\n",
              " (519, 'picture'),\n",
              " (520, 'piece'),\n",
              " (521, 'place'),\n",
              " (522, 'plan'),\n",
              " (523, 'play'),\n",
              " (524, 'playing'),\n",
              " (525, 'please'),\n",
              " (526, 'plus'),\n",
              " (527, 'point'),\n",
              " (528, 'positive'),\n",
              " (529, 'possibility'),\n",
              " (530, 'possible'),\n",
              " (531, 'possibly'),\n",
              " (532, 'post'),\n",
              " (533, 'posted'),\n",
              " (534, 'posting'),\n",
              " (535, 'power'),\n",
              " (536, 'prefer'),\n",
              " (537, 'present'),\n",
              " (538, 'pretty'),\n",
              " (539, 'probably'),\n",
              " (540, 'problem'),\n",
              " (541, 'process'),\n",
              " (542, 'project'),\n",
              " (543, 'proud'),\n",
              " (544, 'public'),\n",
              " (545, 'purpose'),\n",
              " (546, 'put'),\n",
              " (547, 'putting'),\n",
              " (548, 'quality'),\n",
              " (549, 'question'),\n",
              " (550, 'quickly'),\n",
              " (551, 'quiet'),\n",
              " (552, 'quite'),\n",
              " (553, 'quote'),\n",
              " (554, 'random'),\n",
              " (555, 'rare'),\n",
              " (556, 'rarely'),\n",
              " (557, 'rather'),\n",
              " (558, 'read'),\n",
              " (559, 'reading'),\n",
              " (560, 'real'),\n",
              " (561, 'reality'),\n",
              " (562, 'realize'),\n",
              " (563, 'realized'),\n",
              " (564, 'reason'),\n",
              " (565, 'recently'),\n",
              " (566, 'red'),\n",
              " (567, 'relate'),\n",
              " (568, 'related'),\n",
              " (569, 'relationship'),\n",
              " (570, 'religion'),\n",
              " (571, 'remember'),\n",
              " (572, 'reply'),\n",
              " (573, 'research'),\n",
              " (574, 'respect'),\n",
              " (575, 'response'),\n",
              " (576, 'rest'),\n",
              " (577, 'result'),\n",
              " (578, 'romantic'),\n",
              " (579, 'room'),\n",
              " (580, 'rule'),\n",
              " (581, 'run'),\n",
              " (582, 'sad'),\n",
              " (583, 'said'),\n",
              " (584, 'saw'),\n",
              " (585, 'saying'),\n",
              " (586, 'school'),\n",
              " (587, 'science'),\n",
              " (588, 'se'),\n",
              " (589, 'second'),\n",
              " (590, 'seeing'),\n",
              " (591, 'seem'),\n",
              " (592, 'seemed'),\n",
              " (593, 'seems'),\n",
              " (594, 'seen'),\n",
              " (595, 'self'),\n",
              " (596, 'sense'),\n",
              " (597, 'sensitive'),\n",
              " (598, 'series'),\n",
              " (599, 'serious'),\n",
              " (600, 'seriously'),\n",
              " (601, 'set'),\n",
              " (602, 'several'),\n",
              " (603, 'sex'),\n",
              " (604, 'share'),\n",
              " (605, 'shit'),\n",
              " (606, 'short'),\n",
              " (607, 'show'),\n",
              " (608, 'shy'),\n",
              " (609, 'si'),\n",
              " (610, 'side'),\n",
              " (611, 'sign'),\n",
              " (612, 'similar'),\n",
              " (613, 'simple'),\n",
              " (614, 'simply'),\n",
              " (615, 'since'),\n",
              " (616, 'single'),\n",
              " (617, 'sister'),\n",
              " (618, 'sit'),\n",
              " (619, 'site'),\n",
              " (620, 'situation'),\n",
              " (621, 'skill'),\n",
              " (622, 'sleep'),\n",
              " (623, 'small'),\n",
              " (624, 'smart'),\n",
              " (625, 'smile'),\n",
              " (626, 'social'),\n",
              " (627, 'society'),\n",
              " (628, 'somehow'),\n",
              " (629, 'sometimes'),\n",
              " (630, 'somewhat'),\n",
              " (631, 'somewhere'),\n",
              " (632, 'song'),\n",
              " (633, 'soon'),\n",
              " (634, 'sorry'),\n",
              " (635, 'sort'),\n",
              " (636, 'soul'),\n",
              " (637, 'sound'),\n",
              " (638, 'space'),\n",
              " (639, 'speak'),\n",
              " (640, 'speaking'),\n",
              " (641, 'special'),\n",
              " (642, 'specific'),\n",
              " (643, 'spend'),\n",
              " (644, 'spent'),\n",
              " (645, 'stand'),\n",
              " (646, 'start'),\n",
              " (647, 'started'),\n",
              " (648, 'starting'),\n",
              " (649, 'state'),\n",
              " (650, 'statement'),\n",
              " (651, 'stay'),\n",
              " (652, 'step'),\n",
              " (653, 'stereotype'),\n",
              " (654, 'stick'),\n",
              " (655, 'still'),\n",
              " (656, 'stop'),\n",
              " (657, 'story'),\n",
              " (658, 'straight'),\n",
              " (659, 'strange'),\n",
              " (660, 'stress'),\n",
              " (661, 'strong'),\n",
              " (662, 'stuck'),\n",
              " (663, 'student'),\n",
              " (664, 'study'),\n",
              " (665, 'stuff'),\n",
              " (666, 'stupid'),\n",
              " (667, 'style'),\n",
              " (668, 'subject'),\n",
              " (669, 'suck'),\n",
              " (670, 'super'),\n",
              " (671, 'support'),\n",
              " (672, 'suppose'),\n",
              " (673, 'supposed'),\n",
              " (674, 'sure'),\n",
              " (675, 'surprised'),\n",
              " (676, 'sweet'),\n",
              " (677, 'system'),\n",
              " (678, 'take'),\n",
              " (679, 'taken'),\n",
              " (680, 'taking'),\n",
              " (681, 'talk'),\n",
              " (682, 'talking'),\n",
              " (683, 'te'),\n",
              " (684, 'teacher'),\n",
              " (685, 'tell'),\n",
              " (686, 'telling'),\n",
              " (687, 'tend'),\n",
              " (688, 'tendency'),\n",
              " (689, 'term'),\n",
              " (690, 'terrible'),\n",
              " (691, 'test'),\n",
              " (692, 'text'),\n",
              " (693, 'th'),\n",
              " (694, 'thank'),\n",
              " (695, 'thanks'),\n",
              " (696, 'theory'),\n",
              " (697, 'thinking'),\n",
              " (698, 'thread'),\n",
              " (699, 'three'),\n",
              " (700, 'ti'),\n",
              " (701, 'tired'),\n",
              " (702, 'title'),\n",
              " (703, 'today'),\n",
              " (704, 'together'),\n",
              " (705, 'told'),\n",
              " (706, 'tongue'),\n",
              " (707, 'took'),\n",
              " (708, 'top'),\n",
              " (709, 'topic'),\n",
              " (710, 'totally'),\n",
              " (711, 'touch'),\n",
              " (712, 'towards'),\n",
              " (713, 'trait'),\n",
              " (714, 'tried'),\n",
              " (715, 'trouble'),\n",
              " (716, 'true'),\n",
              " (717, 'truly'),\n",
              " (718, 'trust'),\n",
              " (719, 'truth'),\n",
              " (720, 'try'),\n",
              " (721, 'trying'),\n",
              " (722, 'turn'),\n",
              " (723, 'tv'),\n",
              " (724, 'two'),\n",
              " (725, 'typing'),\n",
              " (726, 'understand'),\n",
              " (727, 'understanding'),\n",
              " (728, 'unfortunately'),\n",
              " (729, 'unhealthy'),\n",
              " (730, 'unless'),\n",
              " (731, 'unsure'),\n",
              " (732, 'upon'),\n",
              " (733, 'use'),\n",
              " (734, 'used'),\n",
              " (735, 'useful'),\n",
              " (736, 'user'),\n",
              " (737, 'using'),\n",
              " (738, 'usually'),\n",
              " (739, 'value'),\n",
              " (740, 'video'),\n",
              " (741, 'view'),\n",
              " (742, 'voice'),\n",
              " (743, 'wait'),\n",
              " (744, 'walk'),\n",
              " (745, 'wanted'),\n",
              " (746, 'wanting'),\n",
              " (747, 'watch'),\n",
              " (748, 'watched'),\n",
              " (749, 'watching'),\n",
              " (750, 'water'),\n",
              " (751, 'wear'),\n",
              " (752, 'week'),\n",
              " (753, 'weird'),\n",
              " (754, 'welcome'),\n",
              " (755, 'went'),\n",
              " (756, 'whatever'),\n",
              " (757, 'whenever'),\n",
              " (758, 'whether'),\n",
              " (759, 'white'),\n",
              " (760, 'whole'),\n",
              " (761, 'wink'),\n",
              " (762, 'wish'),\n",
              " (763, 'within'),\n",
              " (764, 'without'),\n",
              " (765, 'woman'),\n",
              " (766, 'wonder'),\n",
              " (767, 'wondering'),\n",
              " (768, 'word'),\n",
              " (769, 'work'),\n",
              " (770, 'worked'),\n",
              " (771, 'working'),\n",
              " (772, 'world'),\n",
              " (773, 'worry'),\n",
              " (774, 'worse'),\n",
              " (775, 'worst'),\n",
              " (776, 'worth'),\n",
              " (777, 'wow'),\n",
              " (778, 'write'),\n",
              " (779, 'writing'),\n",
              " (780, 'written'),\n",
              " (781, 'wrong'),\n",
              " (782, 'wrote'),\n",
              " (783, 'xd'),\n",
              " (784, 'yeah'),\n",
              " (785, 'year'),\n",
              " (786, 'yes'),\n",
              " (787, 'yesterday'),\n",
              " (788, 'yet'),\n",
              " (789, 'young'),\n",
              " (790, 'younger')]"
            ]
          },
          "metadata": {},
          "execution_count": 22
        }
      ],
      "source": [
        "feature_names = list(enumerate(cntizer.get_feature_names_out()))\n",
        "feature_names"
      ]
    },
    {
      "cell_type": "code",
      "execution_count": 23,
      "metadata": {
        "colab": {
          "base_uri": "https://localhost:8080/"
        },
        "id": "9W_XJvOfDWTD",
        "outputId": "3b450d75-01ec-4782-dc20-bfe64b594efe"
      },
      "outputs": [
        {
          "output_type": "execute_result",
          "data": {
            "text/plain": [
              "(8675, 791)"
            ]
          },
          "metadata": {},
          "execution_count": 23
        }
      ],
      "source": [
        "X_tfidf.shape"
      ]
    },
    {
      "cell_type": "markdown",
      "metadata": {
        "id": "nvT8mAwQDZ1j"
      },
      "source": [
        "## X / Y data"
      ]
    },
    {
      "cell_type": "code",
      "execution_count": 24,
      "metadata": {
        "colab": {
          "base_uri": "https://localhost:8080/"
        },
        "id": "vCPoEeqTDfzL",
        "outputId": "f0f0f0db-722a-46cd-96d0-9aac182b3544"
      },
      "outputs": [
        {
          "output_type": "stream",
          "name": "stdout",
          "text": [
            "X: Posts in tf-idf representation \n",
            "* 1st row:\n",
            "[0.         0.         0.         0.         0.         0.\n",
            " 0.         0.         0.         0.         0.         0.\n",
            " 0.         0.         0.08042209 0.06830218 0.         0.\n",
            " 0.         0.         0.         0.         0.         0.\n",
            " 0.         0.         0.         0.         0.         0.\n",
            " 0.         0.         0.         0.         0.         0.\n",
            " 0.         0.         0.10331537 0.         0.04973404 0.\n",
            " 0.         0.         0.         0.         0.         0.\n",
            " 0.         0.         0.         0.         0.         0.\n",
            " 0.         0.10984584 0.         0.         0.         0.08642509\n",
            " 0.         0.         0.10488948 0.         0.         0.\n",
            " 0.         0.         0.05188886 0.06824736 0.         0.\n",
            " 0.         0.         0.         0.         0.         0.\n",
            " 0.         0.         0.         0.         0.         0.\n",
            " 0.         0.         0.         0.         0.         0.\n",
            " 0.         0.         0.         0.         0.         0.\n",
            " 0.         0.         0.         0.         0.         0.\n",
            " 0.         0.         0.         0.         0.16397917 0.\n",
            " 0.10688913 0.         0.09877559 0.         0.         0.\n",
            " 0.04608261 0.         0.         0.         0.         0.\n",
            " 0.         0.0719267  0.         0.         0.         0.\n",
            " 0.         0.         0.         0.         0.         0.\n",
            " 0.07283191 0.07407407 0.         0.10568848 0.         0.\n",
            " 0.         0.         0.         0.         0.         0.\n",
            " 0.1056548  0.         0.         0.         0.         0.\n",
            " 0.         0.         0.         0.04782271 0.         0.\n",
            " 0.09941139 0.09451469 0.         0.         0.         0.\n",
            " 0.         0.         0.         0.         0.         0.\n",
            " 0.         0.         0.         0.         0.         0.\n",
            " 0.         0.         0.         0.         0.         0.\n",
            " 0.         0.         0.         0.         0.         0.\n",
            " 0.         0.         0.         0.         0.         0.09534415\n",
            " 0.         0.         0.         0.         0.         0.\n",
            " 0.         0.         0.         0.         0.         0.\n",
            " 0.06872176 0.         0.         0.         0.         0.\n",
            " 0.         0.         0.05582718 0.11108332 0.         0.\n",
            " 0.         0.         0.         0.         0.         0.\n",
            " 0.         0.12014107 0.         0.         0.         0.\n",
            " 0.         0.         0.         0.         0.         0.\n",
            " 0.         0.         0.         0.         0.         0.\n",
            " 0.15686138 0.         0.         0.         0.         0.\n",
            " 0.         0.         0.         0.08315126 0.         0.\n",
            " 0.         0.         0.         0.         0.         0.\n",
            " 0.         0.         0.         0.         0.         0.\n",
            " 0.         0.         0.         0.         0.06994393 0.\n",
            " 0.         0.28967862 0.         0.         0.         0.\n",
            " 0.         0.         0.18269044 0.         0.         0.\n",
            " 0.         0.         0.         0.         0.         0.\n",
            " 0.         0.         0.         0.         0.         0.\n",
            " 0.         0.         0.         0.         0.         0.\n",
            " 0.         0.0547579  0.         0.         0.         0.07784114\n",
            " 0.08260747 0.         0.         0.09099651 0.         0.\n",
            " 0.         0.07935032 0.         0.12951228 0.         0.\n",
            " 0.         0.         0.         0.         0.         0.\n",
            " 0.         0.         0.         0.         0.         0.\n",
            " 0.         0.         0.         0.         0.05337654 0.\n",
            " 0.         0.         0.         0.         0.         0.\n",
            " 0.         0.         0.         0.         0.         0.\n",
            " 0.         0.         0.         0.         0.         0.\n",
            " 0.         0.         0.         0.         0.         0.\n",
            " 0.         0.         0.05266898 0.         0.         0.\n",
            " 0.         0.         0.         0.         0.         0.05836642\n",
            " 0.0940125  0.         0.         0.         0.         0.\n",
            " 0.         0.         0.07856479 0.09349439 0.         0.06118606\n",
            " 0.         0.16913746 0.         0.         0.         0.\n",
            " 0.         0.0799363  0.         0.         0.         0.\n",
            " 0.         0.         0.         0.0665288  0.         0.\n",
            " 0.         0.         0.         0.         0.         0.\n",
            " 0.         0.         0.         0.         0.         0.\n",
            " 0.         0.09894029 0.         0.         0.         0.\n",
            " 0.04935906 0.         0.         0.0575142  0.05105458 0.\n",
            " 0.04654201 0.         0.         0.         0.         0.\n",
            " 0.         0.         0.         0.         0.         0.\n",
            " 0.09842152 0.         0.         0.         0.09398877 0.\n",
            " 0.         0.         0.14959903 0.         0.         0.\n",
            " 0.         0.         0.         0.08740328 0.07536433 0.06984036\n",
            " 0.         0.         0.09969166 0.         0.         0.\n",
            " 0.         0.         0.         0.05621427 0.07981208 0.\n",
            " 0.         0.         0.         0.         0.         0.09683441\n",
            " 0.06174913 0.         0.         0.         0.         0.\n",
            " 0.         0.         0.         0.         0.         0.06720138\n",
            " 0.         0.         0.         0.         0.         0.\n",
            " 0.         0.         0.         0.         0.         0.\n",
            " 0.         0.         0.         0.1144908  0.         0.\n",
            " 0.         0.         0.         0.         0.10502133 0.\n",
            " 0.         0.         0.         0.05920758 0.         0.\n",
            " 0.         0.         0.         0.         0.         0.\n",
            " 0.         0.07229573 0.         0.         0.         0.\n",
            " 0.         0.         0.         0.         0.         0.08910025\n",
            " 0.         0.         0.         0.         0.         0.\n",
            " 0.         0.         0.         0.09769795 0.10578971 0.\n",
            " 0.         0.         0.         0.         0.10692408 0.\n",
            " 0.         0.         0.         0.         0.         0.\n",
            " 0.         0.         0.         0.         0.         0.\n",
            " 0.056854   0.         0.         0.         0.         0.05655187\n",
            " 0.         0.         0.         0.         0.         0.\n",
            " 0.0967055  0.         0.         0.0884512  0.         0.\n",
            " 0.08325421 0.         0.         0.         0.0608422  0.\n",
            " 0.         0.         0.         0.         0.         0.\n",
            " 0.         0.06417914 0.         0.         0.         0.\n",
            " 0.         0.09239118 0.         0.         0.08242257 0.\n",
            " 0.         0.         0.         0.         0.         0.\n",
            " 0.         0.         0.         0.         0.         0.\n",
            " 0.         0.         0.         0.         0.         0.\n",
            " 0.         0.         0.06822546 0.09769795 0.         0.\n",
            " 0.10175234 0.         0.         0.         0.06439313 0.07327479\n",
            " 0.         0.         0.         0.         0.09874822 0.\n",
            " 0.         0.         0.         0.         0.06190271 0.\n",
            " 0.         0.         0.         0.         0.         0.\n",
            " 0.         0.         0.         0.         0.         0.\n",
            " 0.         0.         0.         0.         0.         0.06592056\n",
            " 0.         0.         0.         0.         0.         0.\n",
            " 0.         0.         0.         0.         0.         0.\n",
            " 0.         0.         0.07897035 0.         0.         0.\n",
            " 0.         0.         0.         0.         0.         0.\n",
            " 0.         0.         0.         0.         0.         0.\n",
            " 0.         0.         0.05092406 0.087854   0.         0.\n",
            " 0.         0.1494126  0.         0.         0.         0.\n",
            " 0.09340105 0.         0.         0.         0.         0.\n",
            " 0.         0.         0.         0.         0.         0.\n",
            " 0.09835864 0.         0.         0.         0.10555797 0.\n",
            " 0.         0.         0.         0.         0.         0.\n",
            " 0.         0.05765739 0.         0.         0.         0.08289525\n",
            " 0.         0.         0.2344923  0.         0.         0.08972042\n",
            " 0.         0.         0.         0.         0.         0.08588141\n",
            " 0.         0.         0.         0.         0.16034096 0.\n",
            " 0.         0.         0.         0.         0.07001317 0.\n",
            " 0.         0.10127672 0.         0.         0.         0.\n",
            " 0.         0.         0.         0.         0.10829927 0.09326152\n",
            " 0.         0.         0.         0.         0.         0.\n",
            " 0.         0.         0.         0.         0.         0.04577982\n",
            " 0.         0.         0.         0.         0.        ]\n"
          ]
        }
      ],
      "source": [
        "print(\"X: Posts in tf-idf representation \\n* 1st row:\\n%s\" % X_tfidf[0])"
      ]
    },
    {
      "cell_type": "code",
      "execution_count": 25,
      "metadata": {
        "colab": {
          "base_uri": "https://localhost:8080/"
        },
        "id": "V6xIQ4WYDl0X",
        "outputId": "e78c5817-461c-4344-c1ca-e197dab6d49d"
      },
      "outputs": [
        {
          "output_type": "stream",
          "name": "stdout",
          "text": [
            "IE: Introversion (I) / Extroversion (E)\n",
            "NS: Intuition (N) – Sensing (S)\n",
            "FT: Feeling (F) - Thinking (T)\n",
            "JP: Judging (J) – Perceiving (P)\n"
          ]
        }
      ],
      "source": [
        "type_indicators = [ \"IE: Introversion (I) / Extroversion (E)\", \"NS: Intuition (N) – Sensing (S)\",\n",
        "                   \"FT: Feeling (F) - Thinking (T)\", \"JP: Judging (J) – Perceiving (P)\"  ]\n",
        "\n",
        "for l in range(len(type_indicators)):\n",
        "    print(type_indicators[l])"
      ]
    },
    {
      "cell_type": "code",
      "execution_count": 26,
      "metadata": {
        "colab": {
          "base_uri": "https://localhost:8080/"
        },
        "id": "_enYbuFSDnnu",
        "outputId": "0b798ab6-d7d7-47c3-eb36-a54bafb16579"
      },
      "outputs": [
        {
          "output_type": "stream",
          "name": "stdout",
          "text": [
            "MBTI 1st row: INFJ\n",
            "Y: Binarized MBTI 1st row: [0 0 0 0]\n"
          ]
        }
      ],
      "source": [
        "print(\"MBTI 1st row: %s\" % translate_back(list_personality[0,:]))\n",
        "print(\"Y: Binarized MBTI 1st row: %s\" % list_personality[0,:])"
      ]
    },
    {
      "cell_type": "markdown",
      "metadata": {
        "id": "uU4k9iWJDqo9"
      },
      "source": [
        "## **First XGBoost model for MBTI dataset**"
      ]
    },
    {
      "cell_type": "code",
      "execution_count": 27,
      "metadata": {
        "colab": {
          "base_uri": "https://localhost:8080/"
        },
        "id": "WtYOtQRSDuUX",
        "outputId": "6ca88d5d-7969-44c9-c822-1f605b814888"
      },
      "outputs": [
        {
          "output_type": "stream",
          "name": "stdout",
          "text": [
            "IE: Introversion (I) / Extroversion (E) ...\n",
            "* IE: Introversion (I) / Extroversion (E) Accuracy: 78.06%\n",
            "NS: Intuition (N) – Sensing (S) ...\n",
            "* NS: Intuition (N) – Sensing (S) Accuracy: 85.89%\n",
            "FT: Feeling (F) - Thinking (T) ...\n",
            "* FT: Feeling (F) - Thinking (T) Accuracy: 72.83%\n",
            "JP: Judging (J) – Perceiving (P) ...\n",
            "* JP: Judging (J) – Perceiving (P) Accuracy: 63.43%\n"
          ]
        }
      ],
      "source": [
        "# First XGBoost model for MBTI dataset\n",
        "from numpy import loadtxt\n",
        "from xgboost import XGBClassifier\n",
        "from sklearn.model_selection import train_test_split\n",
        "from sklearn.metrics import accuracy_score\n",
        "\n",
        "# Posts in tf-idf representation\n",
        "X = X_tfidf\n",
        "\n",
        "# Let's train type indicator individually\n",
        "for l in range(len(type_indicators)):\n",
        "    print(\"%s ...\" % (type_indicators[l]))\n",
        "\n",
        "    # Let's train type indicator individually\n",
        "    Y = list_personality[:,l]\n",
        "\n",
        "    # split data into train and test sets\n",
        "    seed = 7\n",
        "    test_size = 0.33\n",
        "    X_train, X_test, y_train, y_test = train_test_split(X, Y, test_size=test_size, random_state=seed)\n",
        "\n",
        "    # fit model on training data\n",
        "    model = XGBClassifier()\n",
        "    model.fit(X_train, y_train)\n",
        "\n",
        "    # make predictions for test data\n",
        "    y_pred = model.predict(X_test)\n",
        "    predictions = [round(value) for value in y_pred]\n",
        "    # evaluate predictions\n",
        "    accuracy = accuracy_score(y_test, predictions)\n",
        "    print(\"* %s Accuracy: %.2f%%\" % (type_indicators[l], accuracy * 100.0))"
      ]
    },
    {
      "cell_type": "markdown",
      "metadata": {
        "id": "n-cUQ55aDz5i"
      },
      "source": [
        "## **Monitor Performance and Early Stopping**"
      ]
    },
    {
      "cell_type": "code",
      "execution_count": 28,
      "metadata": {
        "colab": {
          "base_uri": "https://localhost:8080/"
        },
        "id": "6F7ESBERD8bq",
        "outputId": "882c33af-603e-43db-87d8-17caffb137b5"
      },
      "outputs": [
        {
          "output_type": "stream",
          "name": "stdout",
          "text": [
            "IE: Introversion (I) / Extroversion (E) ...\n"
          ]
        },
        {
          "output_type": "stream",
          "name": "stderr",
          "text": [
            "/usr/local/lib/python3.10/dist-packages/xgboost/sklearn.py:835: UserWarning: `eval_metric` in `fit` method is deprecated for better compatibility with scikit-learn, use `eval_metric` in constructor or`set_params` instead.\n",
            "  warnings.warn(\n",
            "/usr/local/lib/python3.10/dist-packages/xgboost/sklearn.py:835: UserWarning: `early_stopping_rounds` in `fit` method is deprecated for better compatibility with scikit-learn, use `early_stopping_rounds` in constructor or`set_params` instead.\n",
            "  warnings.warn(\n"
          ]
        },
        {
          "output_type": "stream",
          "name": "stdout",
          "text": [
            "[0]\tvalidation_0-logloss:0.60846\n",
            "[1]\tvalidation_0-logloss:0.56733\n",
            "[2]\tvalidation_0-logloss:0.54272\n",
            "[3]\tvalidation_0-logloss:0.53047\n",
            "[4]\tvalidation_0-logloss:0.52343\n",
            "[5]\tvalidation_0-logloss:0.51792\n",
            "[6]\tvalidation_0-logloss:0.51321\n",
            "[7]\tvalidation_0-logloss:0.51397\n",
            "[8]\tvalidation_0-logloss:0.51347\n",
            "[9]\tvalidation_0-logloss:0.51266\n",
            "[10]\tvalidation_0-logloss:0.51036\n",
            "[11]\tvalidation_0-logloss:0.51225\n",
            "[12]\tvalidation_0-logloss:0.51369\n",
            "[13]\tvalidation_0-logloss:0.51236\n",
            "[14]\tvalidation_0-logloss:0.51188\n",
            "[15]\tvalidation_0-logloss:0.51248\n",
            "[16]\tvalidation_0-logloss:0.51100\n",
            "[17]\tvalidation_0-logloss:0.51053\n",
            "[18]\tvalidation_0-logloss:0.51044\n",
            "[19]\tvalidation_0-logloss:0.51093\n",
            "* IE: Introversion (I) / Extroversion (E) Accuracy: 77.47%\n",
            "NS: Intuition (N) – Sensing (S) ...\n"
          ]
        },
        {
          "output_type": "stream",
          "name": "stderr",
          "text": [
            "/usr/local/lib/python3.10/dist-packages/xgboost/sklearn.py:835: UserWarning: `eval_metric` in `fit` method is deprecated for better compatibility with scikit-learn, use `eval_metric` in constructor or`set_params` instead.\n",
            "  warnings.warn(\n",
            "/usr/local/lib/python3.10/dist-packages/xgboost/sklearn.py:835: UserWarning: `early_stopping_rounds` in `fit` method is deprecated for better compatibility with scikit-learn, use `early_stopping_rounds` in constructor or`set_params` instead.\n",
            "  warnings.warn(\n"
          ]
        },
        {
          "output_type": "stream",
          "name": "stdout",
          "text": [
            "[0]\tvalidation_0-logloss:0.55702\n",
            "[1]\tvalidation_0-logloss:0.48679\n",
            "[2]\tvalidation_0-logloss:0.44576\n",
            "[3]\tvalidation_0-logloss:0.41969\n",
            "[4]\tvalidation_0-logloss:0.40669\n",
            "[5]\tvalidation_0-logloss:0.39926\n",
            "[6]\tvalidation_0-logloss:0.39390\n",
            "[7]\tvalidation_0-logloss:0.39172\n",
            "[8]\tvalidation_0-logloss:0.38809\n",
            "[9]\tvalidation_0-logloss:0.38767\n",
            "[10]\tvalidation_0-logloss:0.38759\n",
            "[11]\tvalidation_0-logloss:0.38908\n",
            "[12]\tvalidation_0-logloss:0.38807\n",
            "[13]\tvalidation_0-logloss:0.38682\n",
            "[14]\tvalidation_0-logloss:0.38983\n",
            "[15]\tvalidation_0-logloss:0.39438\n",
            "[16]\tvalidation_0-logloss:0.39508\n",
            "[17]\tvalidation_0-logloss:0.39565\n",
            "[18]\tvalidation_0-logloss:0.39478\n",
            "[19]\tvalidation_0-logloss:0.39568\n",
            "[20]\tvalidation_0-logloss:0.39807\n",
            "[21]\tvalidation_0-logloss:0.39927\n",
            "[22]\tvalidation_0-logloss:0.40111\n",
            "[23]\tvalidation_0-logloss:0.40089\n",
            "* NS: Intuition (N) – Sensing (S) Accuracy: 85.85%\n",
            "FT: Feeling (F) - Thinking (T) ...\n"
          ]
        },
        {
          "output_type": "stream",
          "name": "stderr",
          "text": [
            "/usr/local/lib/python3.10/dist-packages/xgboost/sklearn.py:835: UserWarning: `eval_metric` in `fit` method is deprecated for better compatibility with scikit-learn, use `eval_metric` in constructor or`set_params` instead.\n",
            "  warnings.warn(\n",
            "/usr/local/lib/python3.10/dist-packages/xgboost/sklearn.py:835: UserWarning: `early_stopping_rounds` in `fit` method is deprecated for better compatibility with scikit-learn, use `early_stopping_rounds` in constructor or`set_params` instead.\n",
            "  warnings.warn(\n"
          ]
        },
        {
          "output_type": "stream",
          "name": "stdout",
          "text": [
            "[0]\tvalidation_0-logloss:0.66920\n",
            "[1]\tvalidation_0-logloss:0.65176\n",
            "[2]\tvalidation_0-logloss:0.63873\n",
            "[3]\tvalidation_0-logloss:0.62824\n",
            "[4]\tvalidation_0-logloss:0.62181\n",
            "[5]\tvalidation_0-logloss:0.61586\n",
            "[6]\tvalidation_0-logloss:0.60997\n",
            "[7]\tvalidation_0-logloss:0.60115\n",
            "[8]\tvalidation_0-logloss:0.59526\n",
            "[9]\tvalidation_0-logloss:0.59093\n",
            "[10]\tvalidation_0-logloss:0.59013\n",
            "[11]\tvalidation_0-logloss:0.58937\n",
            "[12]\tvalidation_0-logloss:0.58451\n",
            "[13]\tvalidation_0-logloss:0.58293\n",
            "[14]\tvalidation_0-logloss:0.58050\n",
            "[15]\tvalidation_0-logloss:0.57901\n",
            "[16]\tvalidation_0-logloss:0.57771\n",
            "[17]\tvalidation_0-logloss:0.57638\n",
            "[18]\tvalidation_0-logloss:0.57493\n",
            "[19]\tvalidation_0-logloss:0.57427\n",
            "[20]\tvalidation_0-logloss:0.57442\n",
            "[21]\tvalidation_0-logloss:0.57426\n",
            "[22]\tvalidation_0-logloss:0.57578\n",
            "[23]\tvalidation_0-logloss:0.57628\n",
            "[24]\tvalidation_0-logloss:0.57666\n",
            "[25]\tvalidation_0-logloss:0.57545\n",
            "[26]\tvalidation_0-logloss:0.57565\n",
            "[27]\tvalidation_0-logloss:0.57486\n",
            "[28]\tvalidation_0-logloss:0.57626\n",
            "[29]\tvalidation_0-logloss:0.57493\n",
            "[30]\tvalidation_0-logloss:0.57207\n",
            "[31]\tvalidation_0-logloss:0.57191\n",
            "[32]\tvalidation_0-logloss:0.57073\n",
            "[33]\tvalidation_0-logloss:0.57056\n",
            "[34]\tvalidation_0-logloss:0.56856\n",
            "[35]\tvalidation_0-logloss:0.56998\n",
            "[36]\tvalidation_0-logloss:0.56927\n",
            "[37]\tvalidation_0-logloss:0.56884\n",
            "[38]\tvalidation_0-logloss:0.57003\n",
            "[39]\tvalidation_0-logloss:0.56909\n",
            "[40]\tvalidation_0-logloss:0.56942\n",
            "[41]\tvalidation_0-logloss:0.56802\n",
            "[42]\tvalidation_0-logloss:0.56832\n",
            "[43]\tvalidation_0-logloss:0.56917\n",
            "[44]\tvalidation_0-logloss:0.56938\n",
            "[45]\tvalidation_0-logloss:0.56791\n",
            "[46]\tvalidation_0-logloss:0.56672\n",
            "[47]\tvalidation_0-logloss:0.56654\n",
            "[48]\tvalidation_0-logloss:0.56648\n",
            "[49]\tvalidation_0-logloss:0.56851\n",
            "[50]\tvalidation_0-logloss:0.56838\n",
            "[51]\tvalidation_0-logloss:0.56746\n",
            "[52]\tvalidation_0-logloss:0.56773\n",
            "[53]\tvalidation_0-logloss:0.56715\n",
            "[54]\tvalidation_0-logloss:0.56668\n",
            "[55]\tvalidation_0-logloss:0.56654\n",
            "[56]\tvalidation_0-logloss:0.56715\n",
            "[57]\tvalidation_0-logloss:0.56726\n",
            "[58]\tvalidation_0-logloss:0.56862\n",
            "* FT: Feeling (F) - Thinking (T) Accuracy: 71.88%\n",
            "JP: Judging (J) – Perceiving (P) ...\n"
          ]
        },
        {
          "output_type": "stream",
          "name": "stderr",
          "text": [
            "/usr/local/lib/python3.10/dist-packages/xgboost/sklearn.py:835: UserWarning: `eval_metric` in `fit` method is deprecated for better compatibility with scikit-learn, use `eval_metric` in constructor or`set_params` instead.\n",
            "  warnings.warn(\n",
            "/usr/local/lib/python3.10/dist-packages/xgboost/sklearn.py:835: UserWarning: `early_stopping_rounds` in `fit` method is deprecated for better compatibility with scikit-learn, use `early_stopping_rounds` in constructor or`set_params` instead.\n",
            "  warnings.warn(\n"
          ]
        },
        {
          "output_type": "stream",
          "name": "stdout",
          "text": [
            "[0]\tvalidation_0-logloss:0.66832\n",
            "[1]\tvalidation_0-logloss:0.65648\n",
            "[2]\tvalidation_0-logloss:0.65019\n",
            "[3]\tvalidation_0-logloss:0.64751\n",
            "[4]\tvalidation_0-logloss:0.64782\n",
            "[5]\tvalidation_0-logloss:0.64693\n",
            "[6]\tvalidation_0-logloss:0.64563\n",
            "[7]\tvalidation_0-logloss:0.64630\n",
            "[8]\tvalidation_0-logloss:0.64631\n",
            "[9]\tvalidation_0-logloss:0.64806\n",
            "[10]\tvalidation_0-logloss:0.64787\n",
            "[11]\tvalidation_0-logloss:0.64671\n",
            "[12]\tvalidation_0-logloss:0.64708\n",
            "[13]\tvalidation_0-logloss:0.64661\n",
            "[14]\tvalidation_0-logloss:0.64901\n",
            "[15]\tvalidation_0-logloss:0.64942\n",
            "* JP: Judging (J) – Perceiving (P) Accuracy: 63.71%\n"
          ]
        }
      ],
      "source": [
        "# Let's train type indicator individually\n",
        "for l in range(len(type_indicators)):\n",
        "    print(\"%s ...\" % (type_indicators[l]))\n",
        "\n",
        "    Y = list_personality[:,l]\n",
        "\n",
        "    # split data into train and test sets\n",
        "    seed = 7\n",
        "    test_size = 0.33\n",
        "    X_train, X_test, y_train, y_test = train_test_split(X, Y, test_size=test_size, random_state=seed)\n",
        "\n",
        "    # fit model on training data\n",
        "    model = XGBClassifier()\n",
        "    eval_set = [(X_test, y_test)]\n",
        "    model.fit(X_train, y_train, early_stopping_rounds=10, eval_metric=\"logloss\", eval_set=eval_set, verbose=True)\n",
        "\n",
        "    # make predictions for test data\n",
        "    y_pred = model.predict(X_test)\n",
        "    predictions = [round(value) for value in y_pred]\n",
        "    # evaluate predictions\n",
        "    accuracy = accuracy_score(y_test, predictions)\n",
        "    print(\"* %s Accuracy: %.2f%%\" % (type_indicators[l], accuracy * 100.0))"
      ]
    },
    {
      "cell_type": "markdown",
      "metadata": {
        "id": "zk6K3a1VEDrx"
      },
      "source": [
        "## **Show feature importance plot and list for the first indicator:**"
      ]
    },
    {
      "cell_type": "code",
      "execution_count": 29,
      "metadata": {
        "colab": {
          "base_uri": "https://localhost:8080/",
          "height": 1000
        },
        "id": "IOTbNUIuEGu8",
        "outputId": "61d12ff5-0012-49ca-94da-0caaff5f0b48"
      },
      "outputs": [
        {
          "output_type": "display_data",
          "data": {
            "text/plain": [
              "<Figure size 1500x2000 with 1 Axes>"
            ],
            "image/png": "[encoded data removed]"
          },
          "metadata": {}
        }
      ],
      "source": [
        "from xgboost import plot_importance\n",
        "\n",
        "# Only the 1st indicator\n",
        "y = list_personality[:,0]\n",
        "# fit model on training data\n",
        "model = XGBClassifier()\n",
        "model.fit(X, y)\n",
        "# plot feature importance\n",
        "ax = plot_importance(model, max_num_features=25)\n",
        "\n",
        "fig = ax.figure\n",
        "fig.set_size_inches(15, 20)\n",
        "\n",
        "plt.show()"
      ]
    },
    {
      "cell_type": "code",
      "execution_count": 30,
      "metadata": {
        "colab": {
          "base_uri": "https://localhost:8080/"
        },
        "id": "TZkG2075EPLN",
        "outputId": "be41fb89-2d51-47c2-9b6d-90f9fa1e5150"
      },
      "outputs": [
        {
          "output_type": "stream",
          "name": "stdout",
          "text": [
            "222\t0.004595\texpect\n",
            "551\t0.004560\tquiet\n",
            "122\t0.004260\tcomputer\n",
            "93\t0.004210\tcase\n",
            "461\t0.004159\tne\n",
            "396\t0.003930\tlistening\n",
            "690\t0.003837\tterrible\n",
            "477\t0.003657\tnt\n",
            "438\t0.003622\tmiddle\n",
            "112\t0.003487\tcollege\n",
            "292\t0.003386\thaha\n",
            "80\t0.003349\tboyfriend\n",
            "434\t0.003345\tmention\n",
            "291\t0.003298\tguy\n",
            "428\t0.003248\tmeant\n",
            "249\t0.003232\tfigure\n",
            "329\t0.003190\thug\n",
            "337\t0.003139\timage\n",
            "313\t0.003133\they\n",
            "581\t0.003129\trun\n",
            "719\t0.003114\ttruth\n",
            "351\t0.003087\tintrovert\n",
            "235\t0.003071\tfamily\n",
            "244\t0.003042\tfellow\n",
            "53\t0.002993\tawesome\n"
          ]
        }
      ],
      "source": [
        "features = sorted(list(enumerate(model.feature_importances_)), key=lambda x: x[1], reverse=True)\n",
        "for f in features[0:25]:\n",
        "    print(\"%d\\t%f\\t%s\" % (f[0],f[1],cntizer.get_feature_names_out()[f[0]]))\n",
        "\n",
        "# Save xgb_params for late discussuin\n",
        "default_get_xgb_params = model.get_xgb_params()"
      ]
    },
    {
      "cell_type": "code",
      "execution_count": 31,
      "metadata": {
        "colab": {
          "base_uri": "https://localhost:8080/"
        },
        "id": "RAnQSyiyER4W",
        "outputId": "58d89603-19d2-4e05-e6f0-0ac726d2f0dc"
      },
      "outputs": [
        {
          "output_type": "stream",
          "name": "stdout",
          "text": [
            "{'objective': 'binary:logistic', 'base_score': None, 'booster': None, 'colsample_bylevel': None, 'colsample_bynode': None, 'colsample_bytree': None, 'eval_metric': None, 'gamma': None, 'gpu_id': None, 'grow_policy': None, 'interaction_constraints': None, 'learning_rate': None, 'max_bin': None, 'max_cat_threshold': None, 'max_cat_to_onehot': None, 'max_delta_step': None, 'max_depth': None, 'max_leaves': None, 'min_child_weight': None, 'monotone_constraints': None, 'n_jobs': None, 'num_parallel_tree': None, 'predictor': None, 'random_state': None, 'reg_alpha': None, 'reg_lambda': None, 'sampling_method': None, 'scale_pos_weight': None, 'subsample': None, 'tree_method': None, 'validate_parameters': None, 'verbosity': None}\n"
          ]
        }
      ],
      "source": [
        "# Save xgb_params for later discussuin\n",
        "default_get_xgb_params = model.get_xgb_params()\n",
        "print (default_get_xgb_params)"
      ]
    },
    {
      "cell_type": "code",
      "execution_count": 32,
      "metadata": {
        "id": "BTeW9vDKETXy"
      },
      "outputs": [],
      "source": [
        "def plot_confusion_matrix(\n",
        "        cm,\n",
        "        classes,\n",
        "        normalize=False,\n",
        "        title=\"Confusion Matrix\",\n",
        "        cmap=plt.cm.Blues):\n",
        "\n",
        "    plt.imshow(cm, interpolation='nearest', cmap=cmap)\n",
        "    plt.title(title)\n",
        "    plt.colorbar()\n",
        "    tick_marks = np.arange(len(classes))\n",
        "    plt.xticks(tick_marks, classes, rotation=45)\n",
        "    plt.yticks(tick_marks, classes)\n",
        "\n",
        "    if normalize:\n",
        "        cm = cm.astype('float') / cm.sum(axis=1)[:, np.newaxis]\n",
        "        print('Normalized confusion matrix')\n",
        "    else:\n",
        "        print('Confusion matrix, without normalization')\n",
        "\n",
        "    print(cm)\n",
        "\n",
        "    thresh = cm.max() / 2\n",
        "\n",
        "    for i, j in itertools.product(range(cm.shape[0]), range(cm.shape[1])):\n",
        "        plt.text(j, i, cm[i, j],\n",
        "                 horizontalalignment='center',\n",
        "                 color='white' if cm[i,j] > thresh else 'black')\n",
        "\n",
        "    plt.tight_layout()\n",
        "    plt.ylabel('True label')\n",
        "    plt.xlabel('Predicted label')\n",
        "    plt.show()"
      ]
    },
    {
      "cell_type": "code",
      "execution_count": 33,
      "metadata": {
        "colab": {
          "base_uri": "https://localhost:8080/",
          "height": 1000
        },
        "id": "jbZ_-uqXEVWe",
        "outputId": "da87356e-e38a-45f2-f3e4-3d7e6b260f26"
      },
      "outputs": [
        {
          "output_type": "stream",
          "name": "stdout",
          "text": [
            "IE: Introversion (I) / Extroversion (E) ...\n",
            "* IE: Introversion (I) / Extroversion (E) Accuracy: 79.01%\n",
            "Confusion matrix, without normalization\n",
            "[[2172   57]\n",
            " [ 544   90]]\n"
          ]
        },
        {
          "output_type": "display_data",
          "data": {
            "text/plain": [
              "<Figure size 640x480 with 2 Axes>"
            ],
            "image/png": "[encoded data removed]"
          },
          "metadata": {}
        },
        {
          "output_type": "stream",
          "name": "stdout",
          "text": [
            "NS: Intuition (N) – Sensing (S) ...\n",
            "* NS: Intuition (N) – Sensing (S) Accuracy: 85.96%\n",
            "Confusion matrix, without normalization\n",
            "[[2454    9]\n",
            " [ 393    7]]\n"
          ]
        },
        {
          "output_type": "display_data",
          "data": {
            "text/plain": [
              "<Figure size 640x480 with 2 Axes>"
            ],
            "image/png": "[encoded data removed]"
          },
          "metadata": {}
        },
        {
          "output_type": "stream",
          "name": "stdout",
          "text": [
            "FT: Feeling (F) - Thinking (T) ...\n",
            "* FT: Feeling (F) - Thinking (T) Accuracy: 74.19%\n",
            "Confusion matrix, without normalization\n",
            "[[1194  360]\n",
            " [ 379  930]]\n"
          ]
        },
        {
          "output_type": "display_data",
          "data": {
            "text/plain": [
              "<Figure size 640x480 with 2 Axes>"
            ],
            "image/png": "[encoded data removed]"
          },
          "metadata": {}
        },
        {
          "output_type": "stream",
          "name": "stdout",
          "text": [
            "JP: Judging (J) – Perceiving (P) ...\n",
            "* JP: Judging (J) – Perceiving (P) Accuracy: 65.42%\n",
            "Confusion matrix, without normalization\n",
            "[[ 429  690]\n",
            " [ 300 1444]]\n"
          ]
        },
        {
          "output_type": "display_data",
          "data": {
            "text/plain": [
              "<Figure size 640x480 with 2 Axes>"
            ],
            "image/png": "[encoded data removed]"
          },
          "metadata": {}
        }
      ],
      "source": [
        "from sklearn.metrics import confusion_matrix\n",
        "import itertools\n",
        "import re\n",
        "\n",
        "# setup parameters for xgboost\n",
        "param = {}\n",
        "\n",
        "param['n_estimators'] = 200\n",
        "param['max_depth'] = 2\n",
        "param['nthread'] = 8\n",
        "param['learning_rate'] = 0.2\n",
        "\n",
        "# Let's train type indicator individually\n",
        "for l in range(len(type_indicators)):\n",
        "    print(\"%s ...\" % (type_indicators[l]))\n",
        "\n",
        "    Y = list_personality[:,l]\n",
        "\n",
        "    # split data into train and test sets\n",
        "    seed = 7\n",
        "    test_size = 0.33\n",
        "    X_train, X_test, y_train, y_test = train_test_split(X, Y, test_size=test_size, random_state=seed)\n",
        "\n",
        "    # fit model on training data\n",
        "    model = XGBClassifier(**param)\n",
        "    model.fit(X_train, y_train)\n",
        "    # make predictions for test data\n",
        "    y_pred = model.predict(X_test)\n",
        "    predictions = [round(value) for value in y_pred]\n",
        "    # evaluate predictions\n",
        "    accuracy = accuracy_score(y_test, predictions)\n",
        "    print(\"* %s Accuracy: %.2f%%\" % (type_indicators[l], accuracy * 100.0))\n",
        "\n",
        "    #confusion matrix\n",
        "    cm = confusion_matrix(y_test, predictions)\n",
        "    cm_class = re.split(' / | – |: | - ', type_indicators[l])\n",
        "    plot_confusion_matrix(cm, [cm_class[1], cm_class[2]], title=\"Confusion Matrix\")"
      ]
    },
    {
      "cell_type": "markdown",
      "metadata": {
        "id": "ncTy8mCbEfHd"
      },
      "source": [
        "## **XGBoost Hyperparameter Tuning**"
      ]
    },
    {
      "cell_type": "markdown",
      "metadata": {
        "id": "6JLeBxznEpbj"
      },
      "source": [
        "## **Predict own Myers-Briggs Personality Type**"
      ]
    },
    {
      "cell_type": "code",
      "execution_count": 36,
      "metadata": {
        "id": "V2CLHMUXEt6o",
        "colab": {
          "base_uri": "https://localhost:8080/"
        },
        "outputId": "df571508-7635-4580-e87d-37dd0b9db00b"
      },
      "outputs": [
        {
          "output_type": "stream",
          "name": "stdout",
          "text": [
            "1 of 1 rows\n"
          ]
        }
      ],
      "source": [
        "# A few few tweets and blog post\n",
        "my_posts  = \"\"\"Getting started with data science and applying machine learning has never been as simple as it is now. There are many free and paid online tutorials and courses out there to help you to get started. I’ve recently started to learn, play, and work on Data Science & Machine Learning on Kaggle.com. In this brief post, I’d like to share my experience with the Kaggle Python Docker image, which simplifies the Data Scientist’s life.\n",
        "Awesome #AWS monitoring introduction.\n",
        "HPE Software (now @MicroFocusSW) won the platinum reader's choice #ITAWARDS 2017 in the new category #CloudMonitoring\n",
        "Certified as AWS Certified Solutions Architect\n",
        "Hi, please have a look at my Udacity interview about online learning and machine learning,\n",
        "Very interesting to see the  lessons learnt during the HP Operations Orchestration to CloudSlang journey. http://bit.ly/1Xo41ci\n",
        "I came across a post on devopsdigest.com and need your input: “70% DevOps organizations Unhappy with DevOps Monitoring Tools”\n",
        "In a similar investigation I found out that many DevOps organizations use several monitoring tools in parallel. Senu, Nagios, LogStach and SaaS offerings such as DataDog or SignalFX to name a few. However, one element is missing: Consolidation of alerts and status in a single pane of glass, which enables fast remediation of application and infrastructure uptime and performance issues.\n",
        "Sure, there are commercial tools on the market for exactly this use case but these tools are not necessarily optimized for DevOps.\n",
        "So, here my question to you: In your DevOps project, have you encountered that the lack of consolidation of alerts and status is a real issue? If yes, how did you approach the problem? Or is an ChatOps approach just right?\n",
        "You will probably hear more and more about ChatOps - at conferences, DevOps meet-ups or simply from your co-worker at the coffee station. ChatOps is a term and concept coined by GitHub. It's about the conversation-driven development, automation, and operations.\n",
        "Now the question is: why and how would I, as an ops-focused engineer, implement and use ChatOps in my organization? The next question then is: How to include my tools into the chat conversation?\n",
        "Let’s begin by having a look at a use case. The Closed Looped Incidents Process (CLIP) can be rejuvenated with ChatOps. The work from the incident detection runs through monitoring until the resolution of issues in your application or infrastructure can be accelerated with improved, cross-team communication and collaboration.\n",
        "In this blog post, I am going to describe and share my experience with deploying HP Operations Manager i 10.0 (OMi) on HP Helion Public Cloud. An Infrastructure as a Service platform such as HP Helion Public Cloud Compute is a great place to quickly spin-up a Linux server and install HP Operations Manager i for various use scenarios. An example of a good use case is monitoring workloads across public clouds such as AWS and Azure.\n",
        "\"\"\"\n",
        "\n",
        "# The type is just a dummy so that the data prep fucntion can be reused\n",
        "mydata = pd.DataFrame(data={'type': ['INFJ'], 'posts': [my_posts]})\n",
        "\n",
        "my_posts, dummy  = pre_process_data(mydata, remove_stop_words=True)\n",
        "\n",
        "my_X_cnt = cntizer.transform(my_posts)\n",
        "my_X_tfidf =  tfizer.transform(my_X_cnt).toarray()"
      ]
    },
    {
      "cell_type": "markdown",
      "metadata": {
        "id": "gll26QqRE1tj"
      },
      "source": [
        "## **Fit and predict the 4 type indicators:**"
      ]
    },
    {
      "cell_type": "code",
      "execution_count": 37,
      "metadata": {
        "id": "vYBZJGGbE4Vm",
        "colab": {
          "base_uri": "https://localhost:8080/"
        },
        "outputId": "15fa5ae9-abb9-4bfd-8d71-06329d79610c"
      },
      "outputs": [
        {
          "output_type": "stream",
          "name": "stdout",
          "text": [
            "IE: Introversion (I) / Extroversion (E) ...\n",
            "NS: Intuition (N) – Sensing (S) ...\n",
            "FT: Feeling (F) - Thinking (T) ...\n",
            "JP: Judging (J) – Perceiving (P) ...\n"
          ]
        }
      ],
      "source": [
        "# setup parameters for xgboost\n",
        "param = {}\n",
        "param['n_estimators'] = 200\n",
        "param['max_depth'] = 2\n",
        "param['nthread'] = 8\n",
        "param['learning_rate'] = 0.2\n",
        "\n",
        "result = []\n",
        "# Let's train type indicator individually\n",
        "for l in range(len(type_indicators)):\n",
        "    print(\"%s ...\" % (type_indicators[l]))\n",
        "\n",
        "    Y = list_personality[:,l]\n",
        "\n",
        "    # split data into train and test sets\n",
        "    seed = 7\n",
        "    test_size = 0.33\n",
        "    X_train, X_test, y_train, y_test = train_test_split(X, Y, test_size=test_size, random_state=seed)\n",
        "\n",
        "    # fit model on training data\n",
        "    model = XGBClassifier(**param)\n",
        "    model.fit(X_train, y_train)\n",
        "\n",
        "    # make predictions for my  data\n",
        "    y_pred = model.predict(my_X_tfidf)\n",
        "    result.append(y_pred[0])\n",
        "    # print(\"* %s prediction: %s\" % (type_indicators[l], y_pred))"
      ]
    },
    {
      "cell_type": "markdown",
      "metadata": {
        "id": "Bw-III-mE9ME"
      },
      "source": [
        "## **Show result**"
      ]
    },
    {
      "cell_type": "code",
      "execution_count": 38,
      "metadata": {
        "id": "9bg8u47_E_Yb",
        "colab": {
          "base_uri": "https://localhost:8080/"
        },
        "outputId": "6249a064-9772-4949-f2c6-332a5ea0552b"
      },
      "outputs": [
        {
          "output_type": "stream",
          "name": "stdout",
          "text": [
            "The result is:  INTJ\n"
          ]
        }
      ],
      "source": [
        "print(\"The result is: \", translate_back(result))"
      ]
    }
  ],
  "metadata": {
    "colab": {
      "provenance": []
    },
    "kernelspec": {
      "display_name": "Python 3",
      "name": "python3"
    },
    "language_info": {
      "name": "python"
    }
  },
  "nbformat": 4,
  "nbformat_minor": 0
}